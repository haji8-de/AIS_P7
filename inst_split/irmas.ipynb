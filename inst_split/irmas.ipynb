{
 "cells": [
  {
   "cell_type": "code",
   "execution_count": 53,
   "metadata": {},
   "outputs": [],
   "source": [
    "import numpy as np\n",
    "import pandas as pd\n",
    "import matplotlib.pyplot as plt\n",
    "import seaborn as sns\n",
    "import librosa\n",
    "import glob\n",
    "import os\n",
    "from tqdm.auto import tqdm\n",
    "import tensorflow as tf\n",
    "from tensorflow.keras.models import Sequential\n",
    "from tensorflow.keras.layers import Dense, Flatten, Dropout, Conv2D, MaxPooling2D, BatchNormalization, LSTM\n",
    "\n",
    "from sklearn.model_selection import train_test_split"
   ]
  },
  {
   "cell_type": "markdown",
   "metadata": {},
   "source": [
    "### Data Load"
   ]
  },
  {
   "cell_type": "code",
   "execution_count": 2,
   "metadata": {},
   "outputs": [],
   "source": [
    "labels_dict = {\n",
    "    \"cel\": \"Cello\",\n",
    "    \"cla\": \"Clarinet \",\n",
    "    \"flu\": \"Flute\",\n",
    "    \"gac\": \"Acoustuc Guitar\",\n",
    "    \"gel\": \"Electric Guitar\",\n",
    "    \"org\": \"Organ\",\n",
    "    \"pia\": \"Piano\",\n",
    "    \"sax\": \"Saxophone\",\n",
    "    \"vio\": \"Violin\",\n",
    "    \"vol\": \"Voice\"\n",
    "}"
   ]
  },
  {
   "cell_type": "code",
   "execution_count": 3,
   "metadata": {},
   "outputs": [],
   "source": [
    "total_inst = glob.glob(\"./sound_track/IRMAS-TrainingData/IRMAS-TrainingData/*/*.wav\")\n",
    "train_path = os.path.join(\"./sound_track/IRMAS-TrainingData/IRMAS-TrainingData\")"
   ]
  },
  {
   "cell_type": "code",
   "execution_count": 5,
   "metadata": {},
   "outputs": [],
   "source": [
    "total_inst = pd.Series(total_inst)\n",
    "\n",
    "train_df = pd.DataFrame()\n",
    "train_df[\"Class\"] = total_inst.map(lambda fn: fn.split(\"\\\\\")[1])\n",
    "train_df[\"FileName\"] = total_inst.map(lambda fn: fn.split(\"\\\\\")[2])"
   ]
  },
  {
   "cell_type": "code",
   "execution_count": 6,
   "metadata": {},
   "outputs": [
    {
     "data": {
      "image/png": "[encoded data removed]",
      "text/plain": [
       "<Figure size 432x288 with 1 Axes>"
      ]
     },
     "metadata": {
      "needs_background": "light"
     },
     "output_type": "display_data"
    }
   ],
   "source": [
    "class_count = train_df[\"Class\"].value_counts()\n",
    "_ = sns.barplot(x=class_count.values, y=class_count.index).set_title(\"Class Distribution\")"
   ]
  },
  {
   "cell_type": "markdown",
   "metadata": {},
   "source": [
    "### CQT"
   ]
  },
  {
   "cell_type": "code",
   "execution_count": 7,
   "metadata": {},
   "outputs": [
    {
     "name": "stderr",
     "output_type": "stream",
     "text": [
      "  0%|          | 0/6705 [00:00<?, ?it/s]C:\\Users\\spec3\\AppData\\Local\\Temp\\ipykernel_40308\\1419183808.py:8: FutureWarning: Pass sr=44100 as keyword args. From version 0.10 passing these as positional arguments will result in an error\n",
      "  ret = librosa.cqt(y, sr)\n",
      "  0%|          | 1/6705 [00:00<1:24:28,  1.32it/s]C:\\Users\\spec3\\AppData\\Local\\Temp\\ipykernel_40308\\1419183808.py:8: FutureWarning: Pass sr=44100 as keyword args. From version 0.10 passing these as positional arguments will result in an error\n",
      "  ret = librosa.cqt(y, sr)\n",
      "100%|██████████| 6705/6705 [07:48<00:00, 14.30it/s]\n"
     ]
    }
   ],
   "source": [
    "spt = []\n",
    "\n",
    "for uid in tqdm(train_df.index):\n",
    "    df = train_df.iloc[uid]\n",
    "    path = os.path.join(train_path, df[\"Class\"], df[\"FileName\"])\n",
    "    # load .wav\n",
    "    y, sr = librosa.load(path, sr=None)\n",
    "    ret = librosa.cqt(y, sr)\n",
    "    ret = np.abs(ret)\n",
    "    spt.append(ret)"
   ]
  },
  {
   "cell_type": "code",
   "execution_count": 10,
   "metadata": {},
   "outputs": [],
   "source": [
    "spt =np.array(spt, np.float32)"
   ]
  },
  {
   "cell_type": "code",
   "execution_count": 11,
   "metadata": {},
   "outputs": [
    {
     "data": {
      "text/plain": [
       "(6705, 84, 259)"
      ]
     },
     "execution_count": 11,
     "metadata": {},
     "output_type": "execute_result"
    }
   ],
   "source": [
    "spt.shape"
   ]
  },
  {
   "cell_type": "markdown",
   "metadata": {},
   "source": [
    "### Data Split"
   ]
  },
  {
   "cell_type": "code",
   "execution_count": 19,
   "metadata": {},
   "outputs": [],
   "source": [
    "x = np.expand_dims(spt, -1)\n",
    "y = pd.get_dummies(train_df[\"Class\"])"
   ]
  },
  {
   "cell_type": "code",
   "execution_count": 37,
   "metadata": {},
   "outputs": [],
   "source": [
    "x_train, x_val, y_train, y_val = train_test_split(x, y, test_size=0.2, stratify=y)"
   ]
  },
  {
   "cell_type": "markdown",
   "metadata": {},
   "source": [
    "### Modeling"
   ]
  },
  {
   "cell_type": "code",
   "execution_count": 41,
   "metadata": {},
   "outputs": [],
   "source": [
    "model = Sequential()\n",
    "model.add(Conv2D(64, (3, 3), activation=\"relu\", input_shape=(84, 259, 1)))\n",
    "model.add(BatchNormalization())\n",
    "model.add(MaxPooling2D((2, 2), (2, 2), padding=\"same\"))\n",
    "model.add(Dropout(0.2))\n",
    "model.add(Conv2D(128, (3, 3), activation=\"relu\"))\n",
    "model.add(MaxPooling2D((2, 2), (2, 2), padding=\"valid\"))\n",
    "model.add(Conv2D(256, (3, 3), activation=\"relu\"))\n",
    "model.add(BatchNormalization())\n",
    "model.add(MaxPooling2D((2, 2), (2, 2), padding=\"valid\"))\n",
    "model.add(Dropout(0.2))\n",
    "model.add(Conv2D(128, (3, 3), activation=\"relu\"))\n",
    "model.add(MaxPooling2D((2, 2), (2, 2), padding=\"valid\"))\n",
    "model.add(Dropout(0.2))\n",
    "model.add(Flatten())\n",
    "model.add(Dense(11, activation=\"softmax\"))"
   ]
  },
  {
   "cell_type": "code",
   "execution_count": 42,
   "metadata": {},
   "outputs": [],
   "source": [
    "model.compile(\n",
    "    optimizer = \"adam\",\n",
    "    loss = tf.keras.losses.CategoricalCrossentropy(),\n",
    "    metrics = [\"accuracy\"]\n",
    ")"
   ]
  },
  {
   "cell_type": "code",
   "execution_count": 43,
   "metadata": {},
   "outputs": [],
   "source": [
    "early_stop = tf.keras.callbacks.EarlyStopping(patience=30, monitor=\"val_loss\", restore_best_weights=True)"
   ]
  },
  {
   "cell_type": "markdown",
   "metadata": {},
   "source": [
    "### Train"
   ]
  },
  {
   "cell_type": "code",
   "execution_count": 44,
   "metadata": {},
   "outputs": [
    {
     "name": "stdout",
     "output_type": "stream",
     "text": [
      "Epoch 1/1000\n",
      "168/168 [==============================] - 193s 1s/step - loss: 2.5724 - accuracy: 0.2211 - val_loss: 7.1010 - val_accuracy: 0.1022\n",
      "Epoch 2/1000\n",
      "168/168 [==============================] - 192s 1s/step - loss: 1.9436 - accuracy: 0.3304 - val_loss: 5.4974 - val_accuracy: 0.1745\n",
      "Epoch 3/1000\n",
      "168/168 [==============================] - 192s 1s/step - loss: 1.7765 - accuracy: 0.4001 - val_loss: 4.9381 - val_accuracy: 0.1559\n",
      "Epoch 4/1000\n",
      "168/168 [==============================] - 195s 1s/step - loss: 1.6537 - accuracy: 0.4377 - val_loss: 2.0156 - val_accuracy: 0.3408\n",
      "Epoch 5/1000\n",
      "168/168 [==============================] - 203s 1s/step - loss: 1.5006 - accuracy: 0.4966 - val_loss: 2.0804 - val_accuracy: 0.3878\n",
      "Epoch 6/1000\n",
      "168/168 [==============================] - 199s 1s/step - loss: 1.3445 - accuracy: 0.5481 - val_loss: 1.7262 - val_accuracy: 0.4385\n",
      "Epoch 7/1000\n",
      "168/168 [==============================] - 196s 1s/step - loss: 1.1656 - accuracy: 0.6044 - val_loss: 1.7838 - val_accuracy: 0.4705\n",
      "Epoch 8/1000\n",
      "168/168 [==============================] - 197s 1s/step - loss: 1.0226 - accuracy: 0.6534 - val_loss: 1.9025 - val_accuracy: 0.4504\n",
      "Epoch 9/1000\n",
      "168/168 [==============================] - 199s 1s/step - loss: 0.8734 - accuracy: 0.7082 - val_loss: 1.7979 - val_accuracy: 0.4534\n",
      "Epoch 10/1000\n",
      "168/168 [==============================] - 195s 1s/step - loss: 0.7217 - accuracy: 0.7521 - val_loss: 2.1280 - val_accuracy: 0.4609\n",
      "Epoch 11/1000\n",
      "168/168 [==============================] - 193s 1s/step - loss: 0.6228 - accuracy: 0.7875 - val_loss: 2.0533 - val_accuracy: 0.4996\n",
      "Epoch 12/1000\n",
      "168/168 [==============================] - 192s 1s/step - loss: 0.5059 - accuracy: 0.8283 - val_loss: 2.0984 - val_accuracy: 0.5205\n",
      "Epoch 13/1000\n",
      "168/168 [==============================] - 187s 1s/step - loss: 0.4490 - accuracy: 0.8460 - val_loss: 1.8934 - val_accuracy: 0.5183\n",
      "Epoch 14/1000\n",
      "168/168 [==============================] - 182s 1s/step - loss: 0.4182 - accuracy: 0.8602 - val_loss: 3.0637 - val_accuracy: 0.3982\n",
      "Epoch 15/1000\n",
      "168/168 [==============================] - 185s 1s/step - loss: 0.3212 - accuracy: 0.8883 - val_loss: 2.1793 - val_accuracy: 0.5153\n",
      "Epoch 16/1000\n",
      "168/168 [==============================] - 183s 1s/step - loss: 0.3056 - accuracy: 0.8999 - val_loss: 2.4115 - val_accuracy: 0.5175\n",
      "Epoch 17/1000\n",
      "168/168 [==============================] - 191s 1s/step - loss: 0.2943 - accuracy: 0.9044 - val_loss: 2.1436 - val_accuracy: 0.4892\n",
      "Epoch 18/1000\n",
      "168/168 [==============================] - 196s 1s/step - loss: 0.3134 - accuracy: 0.8932 - val_loss: 2.0907 - val_accuracy: 0.5048\n",
      "Epoch 19/1000\n",
      "168/168 [==============================] - 193s 1s/step - loss: 0.2912 - accuracy: 0.9064 - val_loss: 2.1257 - val_accuracy: 0.4892\n",
      "Epoch 20/1000\n",
      "168/168 [==============================] - 193s 1s/step - loss: 0.2713 - accuracy: 0.9107 - val_loss: 2.4343 - val_accuracy: 0.5183\n",
      "Epoch 21/1000\n",
      "168/168 [==============================] - 198s 1s/step - loss: 0.2311 - accuracy: 0.9206 - val_loss: 2.9215 - val_accuracy: 0.4698\n",
      "Epoch 22/1000\n",
      "168/168 [==============================] - 199s 1s/step - loss: 0.2413 - accuracy: 0.9241 - val_loss: 2.7341 - val_accuracy: 0.4691\n",
      "Epoch 23/1000\n",
      "168/168 [==============================] - 199s 1s/step - loss: 0.2294 - accuracy: 0.9290 - val_loss: 2.4183 - val_accuracy: 0.5175\n",
      "Epoch 24/1000\n",
      "168/168 [==============================] - 199s 1s/step - loss: 0.1992 - accuracy: 0.9374 - val_loss: 3.0444 - val_accuracy: 0.5354\n",
      "Epoch 25/1000\n",
      "168/168 [==============================] - 196s 1s/step - loss: 0.2010 - accuracy: 0.9381 - val_loss: 3.3118 - val_accuracy: 0.5220\n",
      "Epoch 26/1000\n",
      "168/168 [==============================] - 192s 1s/step - loss: 0.2396 - accuracy: 0.9251 - val_loss: 3.3954 - val_accuracy: 0.4981\n",
      "Epoch 27/1000\n",
      "168/168 [==============================] - 189s 1s/step - loss: 0.1919 - accuracy: 0.9403 - val_loss: 2.9407 - val_accuracy: 0.5153\n",
      "Epoch 28/1000\n",
      "168/168 [==============================] - 187s 1s/step - loss: 0.1856 - accuracy: 0.9439 - val_loss: 2.8407 - val_accuracy: 0.5198\n",
      "Epoch 29/1000\n",
      "168/168 [==============================] - 197s 1s/step - loss: 0.1862 - accuracy: 0.9428 - val_loss: 3.0085 - val_accuracy: 0.5287\n",
      "Epoch 30/1000\n",
      "168/168 [==============================] - 190s 1s/step - loss: 0.1879 - accuracy: 0.9443 - val_loss: 3.5689 - val_accuracy: 0.5086\n",
      "Epoch 31/1000\n",
      "168/168 [==============================] - 185s 1s/step - loss: 0.1835 - accuracy: 0.9439 - val_loss: 3.2073 - val_accuracy: 0.5332\n",
      "Epoch 32/1000\n",
      "168/168 [==============================] - 181s 1s/step - loss: 0.1789 - accuracy: 0.9463 - val_loss: 2.7208 - val_accuracy: 0.5063\n",
      "Epoch 33/1000\n",
      "168/168 [==============================] - 179s 1s/step - loss: 0.1640 - accuracy: 0.9493 - val_loss: 3.2575 - val_accuracy: 0.5414\n",
      "Epoch 34/1000\n",
      "168/168 [==============================] - 172s 1s/step - loss: 0.1754 - accuracy: 0.9430 - val_loss: 3.1803 - val_accuracy: 0.5198\n",
      "Epoch 35/1000\n",
      "168/168 [==============================] - 171s 1s/step - loss: 0.1883 - accuracy: 0.9433 - val_loss: 2.8659 - val_accuracy: 0.5168\n",
      "Epoch 36/1000\n",
      "168/168 [==============================] - 171s 1s/step - loss: 0.1556 - accuracy: 0.9547 - val_loss: 3.1990 - val_accuracy: 0.5429\n"
     ]
    }
   ],
   "source": [
    "with tf.device(\"/device:GPU:0\"):\n",
    "    hist = model.fit(x_train, y_train, validation_data=(x_val, y_val), epochs=1000, callbacks=[early_stop])"
   ]
  },
  {
   "cell_type": "code",
   "execution_count": 45,
   "metadata": {},
   "outputs": [
    {
     "data": {
      "image/png": "[encoded data removed]",
      "text/plain": [
       "<Figure size 1008x360 with 2 Axes>"
      ]
     },
     "metadata": {
      "needs_background": "light"
     },
     "output_type": "display_data"
    }
   ],
   "source": [
    "hist_df = pd.DataFrame(hist.history)\n",
    "\n",
    "fig, ax = plt.subplots(1, 2, figsize=(14, 5))\n",
    "hist_df[[\"accuracy\", \"val_accuracy\"]].plot(ax=ax[0])\n",
    "hist_df[[\"loss\", \"val_loss\"]].plot(ax=ax[1])\n",
    "plt.show()"
   ]
  },
  {
   "cell_type": "code",
   "execution_count": 46,
   "metadata": {},
   "outputs": [
    {
     "name": "stdout",
     "output_type": "stream",
     "text": [
      "210/210 [==============================] - 44s 211ms/step - loss: 1.3050 - accuracy: 0.5746\n"
     ]
    }
   ],
   "source": [
    "test_loss, test_acc = model.evaluate(x, y)"
   ]
  },
  {
   "cell_type": "code",
   "execution_count": 47,
   "metadata": {},
   "outputs": [],
   "source": [
    "model.save(\"cnn_custom.h5\")"
   ]
  },
  {
   "cell_type": "markdown",
   "metadata": {},
   "source": [
    "### LSTM"
   ]
  },
  {
   "cell_type": "code",
   "execution_count": 72,
   "metadata": {},
   "outputs": [],
   "source": [
    "model = Sequential()\n",
    "model.add(LSTM(64, input_shape=(84, 259), return_sequences=True))\n",
    "model.add(LSTM(128))\n",
    "model.add(Dropout(0.2))\n",
    "model.add(Dense(64, activation=\"relu\"))\n",
    "model.add(Dropout(0.2))\n",
    "model.add(Flatten())\n",
    "model.add(Dense(11, activation=\"softmax\"))"
   ]
  },
  {
   "cell_type": "code",
   "execution_count": 73,
   "metadata": {},
   "outputs": [],
   "source": [
    "model.compile(\n",
    "    optimizer=\"adam\",\n",
    "    loss = tf.keras.losses.CategoricalCrossentropy(),\n",
    "    metrics = [\"accuracy\"]\n",
    ")"
   ]
  },
  {
   "cell_type": "code",
   "execution_count": 74,
   "metadata": {},
   "outputs": [],
   "source": [
    "early_stop = tf.keras.callbacks.EarlyStopping(patience=30, monitor=\"val_loss\", restore_best_weights=True)"
   ]
  },
  {
   "cell_type": "code",
   "execution_count": 75,
   "metadata": {},
   "outputs": [
    {
     "name": "stdout",
     "output_type": "stream",
     "text": [
      "Epoch 1/1000\n",
      "168/168 [==============================] - 18s 86ms/step - loss: 2.2715 - accuracy: 0.1792 - val_loss: 2.2021 - val_accuracy: 0.2133\n",
      "Epoch 2/1000\n",
      "168/168 [==============================] - 13s 77ms/step - loss: 2.1644 - accuracy: 0.2336 - val_loss: 2.1093 - val_accuracy: 0.2670\n",
      "Epoch 3/1000\n",
      "168/168 [==============================] - 13s 77ms/step - loss: 2.0610 - accuracy: 0.2806 - val_loss: 2.0131 - val_accuracy: 0.2826\n",
      "Epoch 4/1000\n",
      "168/168 [==============================] - 13s 77ms/step - loss: 1.9583 - accuracy: 0.3337 - val_loss: 1.9189 - val_accuracy: 0.3356\n",
      "Epoch 5/1000\n",
      "168/168 [==============================] - 13s 77ms/step - loss: 1.8792 - accuracy: 0.3630 - val_loss: 1.8871 - val_accuracy: 0.3386\n",
      "Epoch 6/1000\n",
      "168/168 [==============================] - 13s 76ms/step - loss: 1.8168 - accuracy: 0.3831 - val_loss: 1.8235 - val_accuracy: 0.3743\n",
      "Epoch 7/1000\n",
      "168/168 [==============================] - 13s 76ms/step - loss: 1.7644 - accuracy: 0.4044 - val_loss: 1.7950 - val_accuracy: 0.3915\n",
      "Epoch 8/1000\n",
      "168/168 [==============================] - 13s 76ms/step - loss: 1.7099 - accuracy: 0.4176 - val_loss: 1.8145 - val_accuracy: 0.3930\n",
      "Epoch 9/1000\n",
      "168/168 [==============================] - 13s 76ms/step - loss: 1.6624 - accuracy: 0.4400 - val_loss: 1.8037 - val_accuracy: 0.4101\n",
      "Epoch 10/1000\n",
      "168/168 [==============================] - 13s 77ms/step - loss: 1.6281 - accuracy: 0.4513 - val_loss: 1.7672 - val_accuracy: 0.4049\n",
      "Epoch 11/1000\n",
      "168/168 [==============================] - 13s 77ms/step - loss: 1.5743 - accuracy: 0.4679 - val_loss: 1.7678 - val_accuracy: 0.4169\n",
      "Epoch 12/1000\n",
      "168/168 [==============================] - 13s 77ms/step - loss: 1.5366 - accuracy: 0.4789 - val_loss: 1.7352 - val_accuracy: 0.4265\n",
      "Epoch 13/1000\n",
      "168/168 [==============================] - 13s 77ms/step - loss: 1.4870 - accuracy: 0.5011 - val_loss: 1.7321 - val_accuracy: 0.4325\n",
      "Epoch 14/1000\n",
      "168/168 [==============================] - 13s 76ms/step - loss: 1.4361 - accuracy: 0.5177 - val_loss: 1.7321 - val_accuracy: 0.4258\n",
      "Epoch 15/1000\n",
      "168/168 [==============================] - 13s 77ms/step - loss: 1.3999 - accuracy: 0.5254 - val_loss: 1.7230 - val_accuracy: 0.4385\n",
      "Epoch 16/1000\n",
      "168/168 [==============================] - 13s 77ms/step - loss: 1.3378 - accuracy: 0.5569 - val_loss: 1.7620 - val_accuracy: 0.4325\n",
      "Epoch 17/1000\n",
      "168/168 [==============================] - 13s 76ms/step - loss: 1.2915 - accuracy: 0.5690 - val_loss: 1.7760 - val_accuracy: 0.4355\n",
      "Epoch 18/1000\n",
      "168/168 [==============================] - 13s 77ms/step - loss: 1.2719 - accuracy: 0.5744 - val_loss: 1.7840 - val_accuracy: 0.4348\n",
      "Epoch 19/1000\n",
      "168/168 [==============================] - 13s 77ms/step - loss: 1.2007 - accuracy: 0.5996 - val_loss: 1.8010 - val_accuracy: 0.4370\n",
      "Epoch 20/1000\n",
      "168/168 [==============================] - 13s 79ms/step - loss: 1.1735 - accuracy: 0.5986 - val_loss: 1.8408 - val_accuracy: 0.4265\n",
      "Epoch 21/1000\n",
      "168/168 [==============================] - 13s 77ms/step - loss: 1.1297 - accuracy: 0.6186 - val_loss: 1.8452 - val_accuracy: 0.4348\n",
      "Epoch 22/1000\n",
      "168/168 [==============================] - 13s 77ms/step - loss: 1.0875 - accuracy: 0.6380 - val_loss: 1.8956 - val_accuracy: 0.4370\n",
      "Epoch 23/1000\n",
      "168/168 [==============================] - 13s 77ms/step - loss: 1.0380 - accuracy: 0.6504 - val_loss: 1.9114 - val_accuracy: 0.4377\n",
      "Epoch 24/1000\n",
      "168/168 [==============================] - 13s 77ms/step - loss: 1.0014 - accuracy: 0.6652 - val_loss: 1.8918 - val_accuracy: 0.4467\n",
      "Epoch 25/1000\n",
      "168/168 [==============================] - 13s 77ms/step - loss: 0.9965 - accuracy: 0.6626 - val_loss: 1.9881 - val_accuracy: 0.4213\n",
      "Epoch 26/1000\n",
      "168/168 [==============================] - 13s 78ms/step - loss: 0.9304 - accuracy: 0.6864 - val_loss: 2.0446 - val_accuracy: 0.4318\n",
      "Epoch 27/1000\n",
      "168/168 [==============================] - 13s 77ms/step - loss: 0.9048 - accuracy: 0.6933 - val_loss: 2.0201 - val_accuracy: 0.4362\n",
      "Epoch 28/1000\n",
      "168/168 [==============================] - 13s 77ms/step - loss: 0.8424 - accuracy: 0.7103 - val_loss: 2.1078 - val_accuracy: 0.4310\n",
      "Epoch 29/1000\n",
      "168/168 [==============================] - 13s 77ms/step - loss: 0.8362 - accuracy: 0.7166 - val_loss: 2.1253 - val_accuracy: 0.4228\n",
      "Epoch 30/1000\n",
      "168/168 [==============================] - 13s 77ms/step - loss: 0.7764 - accuracy: 0.7325 - val_loss: 2.2300 - val_accuracy: 0.4310\n",
      "Epoch 31/1000\n",
      "168/168 [==============================] - 13s 77ms/step - loss: 0.7320 - accuracy: 0.7562 - val_loss: 2.3434 - val_accuracy: 0.4310\n",
      "Epoch 32/1000\n",
      "168/168 [==============================] - 13s 77ms/step - loss: 0.7244 - accuracy: 0.7517 - val_loss: 2.3000 - val_accuracy: 0.4370\n",
      "Epoch 33/1000\n",
      "168/168 [==============================] - 13s 77ms/step - loss: 0.6707 - accuracy: 0.7748 - val_loss: 2.3079 - val_accuracy: 0.4430\n",
      "Epoch 34/1000\n",
      "168/168 [==============================] - 13s 78ms/step - loss: 0.7021 - accuracy: 0.7675 - val_loss: 2.2701 - val_accuracy: 0.4265\n",
      "Epoch 35/1000\n",
      "168/168 [==============================] - 13s 77ms/step - loss: 0.6262 - accuracy: 0.7921 - val_loss: 2.4825 - val_accuracy: 0.4474\n",
      "Epoch 36/1000\n",
      "168/168 [==============================] - 13s 77ms/step - loss: 0.6435 - accuracy: 0.7864 - val_loss: 2.3919 - val_accuracy: 0.4385\n",
      "Epoch 37/1000\n",
      "168/168 [==============================] - 13s 77ms/step - loss: 0.5958 - accuracy: 0.7975 - val_loss: 2.5067 - val_accuracy: 0.4087\n",
      "Epoch 38/1000\n",
      "168/168 [==============================] - 13s 77ms/step - loss: 0.5213 - accuracy: 0.8292 - val_loss: 2.5879 - val_accuracy: 0.4198\n",
      "Epoch 39/1000\n",
      "168/168 [==============================] - 13s 77ms/step - loss: 0.5341 - accuracy: 0.8238 - val_loss: 2.5945 - val_accuracy: 0.4236\n",
      "Epoch 40/1000\n",
      "168/168 [==============================] - 13s 77ms/step - loss: 0.5199 - accuracy: 0.8255 - val_loss: 2.6094 - val_accuracy: 0.4415\n",
      "Epoch 41/1000\n",
      "168/168 [==============================] - 13s 76ms/step - loss: 0.4522 - accuracy: 0.8475 - val_loss: 2.6537 - val_accuracy: 0.4422\n",
      "Epoch 42/1000\n",
      "168/168 [==============================] - 13s 77ms/step - loss: 0.4270 - accuracy: 0.8607 - val_loss: 2.7224 - val_accuracy: 0.4280\n",
      "Epoch 43/1000\n",
      "168/168 [==============================] - 13s 77ms/step - loss: 0.4793 - accuracy: 0.8421 - val_loss: 2.7639 - val_accuracy: 0.4206\n",
      "Epoch 44/1000\n",
      "168/168 [==============================] - 13s 77ms/step - loss: 0.4398 - accuracy: 0.8497 - val_loss: 2.8586 - val_accuracy: 0.4191\n",
      "Epoch 45/1000\n",
      "168/168 [==============================] - 13s 78ms/step - loss: 0.4795 - accuracy: 0.8382 - val_loss: 2.7704 - val_accuracy: 0.4295\n"
     ]
    }
   ],
   "source": [
    "with tf.device(\"/device:GPU:0\"):\n",
    "    hist = model.fit(x_train, y_train, validation_data=(x_val, y_val), epochs=1000, callbacks=[early_stop])"
   ]
  }
 ],
 "metadata": {
  "kernelspec": {
   "display_name": "Python 3.8.13 ('dgdg')",
   "language": "python",
   "name": "python3"
  },
  "language_info": {
   "codemirror_mode": {
    "name": "ipython",
    "version": 3
   },
   "file_extension": ".py",
   "mimetype": "text/x-python",
   "name": "python",
   "nbconvert_exporter": "python",
   "pygments_lexer": "ipython3",
   "version": "3.8.13"
  },
  "orig_nbformat": 4,
  "vscode": {
   "interpreter": {
    "hash": "2076adaa342e4728b5f632fbf189c39b5d1811ef76d2fb06a694f637be620194"
   }
  }
 },
 "nbformat": 4,
 "nbformat_minor": 2
}
