{
  "cells": [
    {
      "cell_type": "markdown",
      "metadata": {
        "id": "LHt2xZUSqIzV"
      },
      "source": [
        "<a href=\"https://colab.research.google.com/github/magenta/mt3/blob/main/mt3/colab/music_transcription_with_transformers.ipynb\" target=\"_parent\"><img src=\"https://colab.research.google.com/assets/colab-badge.svg\" alt=\"Open In Colab\"/></a>\n",
        "\n",
        "# Music Transcription with Transformers\n",
        "\n",
        "This notebook is an interactive demo of a few [music transcription models](g.co/magenta/mt3) created by Google's [Magenta](g.co/magenta) team.  You can upload audio and have one of our models automatically transcribe it.\n",
        "\n",
        "<img src=\"https://magenta.tensorflow.org/assets/transcription-with-transformers/architecture_diagram.png\" alt=\"Transformer-based transcription architecture\">\n",
        "\n",
        "The notebook supports two pre-trained models:\n",
        "1. the piano transcription model from [our ISMIR 2021 paper](https://archives.ismir.net/ismir2021/paper/000030.pdf)\n",
        "1. the multi-instrument transcription model from [our ICLR 2022 paper](https://openreview.net/pdf?id=iMSjopcOn0p)\n",
        "\n",
        "**Caveat**: neither model is trained on singing.  If you upload audio with vocals, you will likely get weird results.  Multi-instrument transcription is still not a completely-solved problem and so you may get weird results regardless.\n",
        "\n",
        "In any case, we hope you have fun transcribing!  Feel free to tweet any interesting output at [@GoogleMagenta](https://twitter.com/googlemagenta)...\n",
        "\n",
        "### Instructions for running:\n",
        "\n",
        "* Make sure to use a GPU runtime, click:  __Runtime >> Change Runtime Type >> GPU__\n",
        "* Press ▶️ on the left of each cell to execute the cell\n",
        "* In the __Load Model__ cell, choose either `ismir2021` for piano transcription or `mt3` for multi-instrument transcription\n",
        "* In the __Upload Audio__ cell, choose an MP3 or WAV file from your computer when prompted\n",
        "* Transcribe the audio using the __Transcribe Audio__ cell (it may take a few minutes depending on the length of the audio)\n",
        "\n",
        "---\n",
        "\n",
        "This notebook sends basic usage data to Google Analytics.  For more information, see [Google's privacy policy](https://policies.google.com/privacy)."
      ]
    },
    {
      "cell_type": "code",
      "execution_count": null,
      "metadata": {
        "id": "ibSG_uu0QXgc"
      },
      "outputs": [],
      "source": [
        "# Copyright 2021 Google LLC. All Rights Reserved.\n",
        "\n",
        "# Licensed under the Apache License, Version 2.0 (the \"License\");\n",
        "# you may not use this file except in compliance with the License.\n",
        "# You may obtain a copy of the License at\n",
        "\n",
        "#     http://www.apache.org/licenses/LICENSE-2.0\n",
        "\n",
        "# Unless required by applicable law or agreed to in writing, software\n",
        "# distributed under the License is distributed on an \"AS IS\" BASIS,\n",
        "# WITHOUT WARRANTIES OR CONDITIONS OF ANY KIND, either express or implied.\n",
        "# See the License for the specific language governing permissions and\n",
        "# limitations under the License.\n",
        "# ==============================================================================\n",
        "\n",
        "#@title Setup Environment\n",
        "#@markdown Install MT3 and its dependencies (may take a few minutes).\n",
        "\n",
        "!apt-get update -qq && apt-get install -qq libfluidsynth1 build-essential libasound2-dev libjack-dev\n",
        "\n",
        "!pip install nest-asyncio\n",
        "!pip install pyfluidsynth\n",
        "# pin CLU for python 3.7 compatibility\n",
        "!pip install clu==0.0.7\n",
        "# pin Orbax to use Checkpointer\n",
        "!pip install orbax==0.0.2\n",
        "\n",
        "# install t5x\n",
        "!git clone --branch=main https://github.com/google-research/t5x\n",
        "# pin T5X for python 3.7 compatibility\n",
        "!cd t5x; git reset --hard 2e05ad41778c25521738418de805757bf2e41e9e; cd ..\n",
        "!mv t5x t5x_tmp; mv t5x_tmp/* .; rm -r t5x_tmp\n",
        "!sed -i 's:jax\\[tpu\\]:jax:' setup.py\n",
        "!python3 -m pip install -e .\n",
        "\n",
        "# install mt3\n",
        "!git clone --branch=main https://github.com/magenta/mt3\n",
        "!mv mt3 mt3_tmp; mv mt3_tmp/* .; rm -r mt3_tmp\n",
        "!python3 -m pip install -e .\n",
        "\n",
        "# downgrade jax and jaxlib\n",
        "# TODO(iansimon): remove this once we can use the latest t5x\n",
        "!pip install jax==0.3.15\n",
        "!pip install jaxlib==0.3.15\n",
        "\n",
        "# copy checkpoints\n",
        "!gsutil -q -m cp -r gs://mt3/checkpoints .\n",
        "\n",
        "# copy soundfont (originally from https://sites.google.com/site/soundfonts4u)\n",
        "!gsutil -q -m cp gs://magentadata/soundfonts/SGM-v2.01-Sal-Guit-Bass-V1.3.sf2 .\n",
        "\n",
        "import json\n",
        "import IPython\n",
        "\n",
        "# The below functions (load_gtag and log_event) handle Google Analytics event\n",
        "# logging. The logging is anonymous and stores only very basic statistics of the\n",
        "# audio and transcription e.g. length of audio, number of transcribed notes.\n",
        "\n",
        "def load_gtag():\n",
        "  \"\"\"Loads gtag.js.\"\"\"\n",
        "  # Note: gtag.js MUST be loaded in the same cell execution as the one doing\n",
        "  # synthesis. It does NOT persist across cell executions!\n",
        "  html_code = '''\n",
        "<!-- Global site tag (gtag.js) - Google Analytics -->\n",
        "<script async src=\"https://www.googletagmanager.com/gtag/js?id=UA-80107903-6\"></script>\n",
        "<script>\n",
        "  window.dataLayer = window.dataLayer || [];\n",
        "  function gtag(){dataLayer.push(arguments);}\n",
        "  gtag('js', new Date());\n",
        "  gtag('config', 'UA-80107903-6',\n",
        "       {'referrer': document.referrer.split('?')[0],\n",
        "        'anonymize_ip': true,\n",
        "        'page_title': '',\n",
        "        'page_referrer': '',\n",
        "        'cookie_prefix': 'magenta',\n",
        "        'cookie_domain': 'auto',\n",
        "        'cookie_expires': 0,\n",
        "        'cookie_flags': 'SameSite=None;Secure'});\n",
        "</script>\n",
        "'''\n",
        "  IPython.display.display(IPython.display.HTML(html_code))\n",
        "\n",
        "def log_event(event_name, event_details):\n",
        "  \"\"\"Log event with name and details dictionary.\"\"\"\n",
        "  details_json = json.dumps(event_details)\n",
        "  js_string = \"gtag('event', '%s', %s);\" % (event_name, details_json)\n",
        "  IPython.display.display(IPython.display.Javascript(js_string))\n",
        "\n",
        "load_gtag()\n",
        "log_event('setupComplete', {})"
      ]
    },
    {
      "cell_type": "code",
      "execution_count": null,
      "metadata": {
        "id": "TSMSWDxxWmTS",
        "colab": {
          "base_uri": "https://localhost:8080/"
        },
        "outputId": "7872863b-a454-4ec7-b381-758f2ffb78d2"
      },
      "outputs": [
        {
          "output_type": "stream",
          "name": "stderr",
          "text": [
            "/usr/local/lib/python3.7/dist-packages/orbax/checkpoint/checkpoint_manager.py:30: FutureWarning: jax.tree_structure is deprecated, and will be removed in a future release. Use jax.tree_util.tree_structure instead.\n",
            "  PyTree = type(jax.tree_structure(None))\n",
            "/usr/local/lib/python3.7/dist-packages/orbax/checkpoint/transform_utils.py:26: FutureWarning: jax.tree_structure is deprecated, and will be removed in a future release. Use jax.tree_util.tree_structure instead.\n",
            "  PyTree = type(jax.tree_structure(None))\n",
            "/usr/local/lib/python3.7/dist-packages/orbax/checkpoint/pytree_checkpointer.py:38: FutureWarning: jax.tree_structure is deprecated, and will be removed in a future release. Use jax.tree_util.tree_structure instead.\n",
            "  PyTree = type(jax.tree_structure(None))\n",
            "/content/t5x/partitioning.py:40: FutureWarning: jax.tree_structure is deprecated, and will be removed in a future release. Use jax.tree_util.tree_structure instead.\n",
            "  PyTreeDef = type(jax.tree_structure(None))\n",
            "/content/t5x/checkpoints.py:65: FutureWarning: jax.tree_structure is deprecated, and will be removed in a future release. Use jax.tree_util.tree_structure instead.\n",
            "  PyTreeDef = type(jax.tree_structure(None))\n",
            "/content/t5x/utils.py:56: FutureWarning: jax.tree_structure is deprecated, and will be removed in a future release. Use jax.tree_util.tree_structure instead.\n",
            "  PyTreeDef = type(jax.tree_structure(None))\n",
            "/content/t5x/decoding.py:27: FutureWarning: jax.tree_structure is deprecated, and will be removed in a future release. Use jax.tree_util.tree_structure instead.\n",
            "  PyTreeDef = type(jax.tree_structure(None))\n",
            "/content/t5x/models.py:44: FutureWarning: jax.tree_structure is deprecated, and will be removed in a future release. Use jax.tree_util.tree_structure instead.\n",
            "  PyTreeDef = type(jax.tree_structure(None))\n",
            "/content/t5x/trainer.py:59: FutureWarning: jax.tree_structure is deprecated, and will be removed in a future release. Use jax.tree_util.tree_structure instead.\n",
            "  PyTreeDef = type(jax.tree_structure(None))\n"
          ]
        }
      ],
      "source": [
        "# Imports and Definitions\n",
        "\n",
        "import functools\n",
        "import os\n",
        "\n",
        "import numpy as np\n",
        "import tensorflow.compat.v2 as tf\n",
        "\n",
        "import functools\n",
        "import gin\n",
        "import jax\n",
        "import librosa\n",
        "import note_seq\n",
        "import seqio\n",
        "import t5\n",
        "import t5x\n",
        "\n",
        "from mt3 import metrics_utils\n",
        "from mt3 import models\n",
        "from mt3 import network\n",
        "from mt3 import note_sequences\n",
        "from mt3 import preprocessors\n",
        "from mt3 import spectrograms\n",
        "from mt3 import vocabularies\n",
        "\n",
        "from google.colab import files\n",
        "\n",
        "import nest_asyncio\n",
        "nest_asyncio.apply()\n",
        "\n",
        "SAMPLE_RATE = 16000\n",
        "SF2_PATH = 'SGM-v2.01-Sal-Guit-Bass-V1.3.sf2'\n",
        "\n",
        "def upload_audio(sample_rate):\n",
        "  data = list(files.upload().values())\n",
        "  if len(data) > 1:\n",
        "    print('Multiple files uploaded; using only one.')\n",
        "  return note_seq.audio_io.wav_data_to_samples_librosa(\n",
        "    data[0], sample_rate=sample_rate)\n",
        "\n",
        "\n",
        "\n",
        "class InferenceModel(object):\n",
        "  \"\"\"Wrapper of T5X model for music transcription.\"\"\"\n",
        "\n",
        "  def __init__(self, checkpoint_path, model_type='mt3'):\n",
        "\n",
        "    # Model Constants.\n",
        "    if model_type == 'ismir2021':\n",
        "      num_velocity_bins = 127\n",
        "      self.encoding_spec = note_sequences.NoteEncodingSpec\n",
        "      self.inputs_length = 512\n",
        "    elif model_type == 'mt3':\n",
        "      num_velocity_bins = 1\n",
        "      self.encoding_spec = note_sequences.NoteEncodingWithTiesSpec\n",
        "      self.inputs_length = 256\n",
        "    else:\n",
        "      raise ValueError('unknown model_type: %s' % model_type)\n",
        "\n",
        "    gin_files = ['/content/mt3/gin/model.gin',\n",
        "                 f'/content/mt3/gin/{model_type}.gin']\n",
        "\n",
        "    self.batch_size = 8\n",
        "    self.outputs_length = 1024\n",
        "    self.sequence_length = {'inputs': self.inputs_length, \n",
        "                            'targets': self.outputs_length}\n",
        "\n",
        "    self.partitioner = t5x.partitioning.PjitPartitioner(\n",
        "        num_partitions=1)\n",
        "\n",
        "    # Build Codecs and Vocabularies.\n",
        "    self.spectrogram_config = spectrograms.SpectrogramConfig()\n",
        "    self.codec = vocabularies.build_codec(\n",
        "        vocab_config=vocabularies.VocabularyConfig(\n",
        "            num_velocity_bins=num_velocity_bins))\n",
        "    self.vocabulary = vocabularies.vocabulary_from_codec(self.codec)\n",
        "    self.output_features = {\n",
        "        'inputs': seqio.ContinuousFeature(dtype=tf.float32, rank=2),\n",
        "        'targets': seqio.Feature(vocabulary=self.vocabulary),\n",
        "    }\n",
        "\n",
        "    # Create a T5X model.\n",
        "    self._parse_gin(gin_files)\n",
        "    self.model = self._load_model()\n",
        "\n",
        "    # Restore from checkpoint.\n",
        "    self.restore_from_checkpoint(checkpoint_path)\n",
        "\n",
        "  @property\n",
        "  def input_shapes(self):\n",
        "    return {\n",
        "          'encoder_input_tokens': (self.batch_size, self.inputs_length),\n",
        "          'decoder_input_tokens': (self.batch_size, self.outputs_length)\n",
        "    }\n",
        "\n",
        "  def _parse_gin(self, gin_files):\n",
        "    \"\"\"Parse gin files used to train the model.\"\"\"\n",
        "    gin_bindings = [\n",
        "        'from __gin__ import dynamic_registration',\n",
        "        'from mt3 import vocabularies',\n",
        "        'VOCAB_CONFIG=@vocabularies.VocabularyConfig()',\n",
        "        'vocabularies.VocabularyConfig.num_velocity_bins=%NUM_VELOCITY_BINS'\n",
        "    ]\n",
        "    with gin.unlock_config():\n",
        "      gin.parse_config_files_and_bindings(\n",
        "          gin_files, gin_bindings, finalize_config=False)\n",
        "\n",
        "  def _load_model(self):\n",
        "    \"\"\"Load up a T5X `Model` after parsing training gin config.\"\"\"\n",
        "    model_config = gin.get_configurable(network.T5Config)()\n",
        "    module = network.Transformer(config=model_config)\n",
        "    return models.ContinuousInputsEncoderDecoderModel(\n",
        "        module=module,\n",
        "        input_vocabulary=self.output_features['inputs'].vocabulary,\n",
        "        output_vocabulary=self.output_features['targets'].vocabulary,\n",
        "        optimizer_def=t5x.adafactor.Adafactor(decay_rate=0.8, step_offset=0),\n",
        "        input_depth=spectrograms.input_depth(self.spectrogram_config))\n",
        "\n",
        "\n",
        "  def restore_from_checkpoint(self, checkpoint_path):\n",
        "    \"\"\"Restore training state from checkpoint, resets self._predict_fn().\"\"\"\n",
        "    train_state_initializer = t5x.utils.TrainStateInitializer(\n",
        "      optimizer_def=self.model.optimizer_def,\n",
        "      init_fn=self.model.get_initial_variables,\n",
        "      input_shapes=self.input_shapes,\n",
        "      partitioner=self.partitioner)\n",
        "\n",
        "    restore_checkpoint_cfg = t5x.utils.RestoreCheckpointConfig(\n",
        "        path=checkpoint_path, mode='specific', dtype='float32')\n",
        "\n",
        "    train_state_axes = train_state_initializer.train_state_axes\n",
        "    self._predict_fn = self._get_predict_fn(train_state_axes)\n",
        "    self._train_state = train_state_initializer.from_checkpoint_or_scratch(\n",
        "        [restore_checkpoint_cfg], init_rng=jax.random.PRNGKey(0))\n",
        "\n",
        "  @functools.lru_cache()\n",
        "  def _get_predict_fn(self, train_state_axes):\n",
        "    \"\"\"Generate a partitioned prediction function for decoding.\"\"\"\n",
        "    def partial_predict_fn(params, batch, decode_rng):\n",
        "      return self.model.predict_batch_with_aux(\n",
        "          params, batch, decoder_params={'decode_rng': None})\n",
        "    return self.partitioner.partition(\n",
        "        partial_predict_fn,\n",
        "        in_axis_resources=(\n",
        "            train_state_axes.params,\n",
        "            t5x.partitioning.PartitionSpec('data',), None),\n",
        "        out_axis_resources=t5x.partitioning.PartitionSpec('data',)\n",
        "    )\n",
        "\n",
        "  def predict_tokens(self, batch, seed=0):\n",
        "    \"\"\"Predict tokens from preprocessed dataset batch.\"\"\"\n",
        "    prediction, _ = self._predict_fn(\n",
        "        self._train_state.params, batch, jax.random.PRNGKey(seed))\n",
        "    return self.vocabulary.decode_tf(prediction).numpy()\n",
        "\n",
        "  def __call__(self, audio):\n",
        "    \"\"\"Infer note sequence from audio samples.\n",
        "    \n",
        "    Args:\n",
        "      audio: 1-d numpy array of audio samples (16kHz) for a single example.\n",
        "\n",
        "    Returns:\n",
        "      A note_sequence of the transcribed audio.\n",
        "    \"\"\"\n",
        "    ds = self.audio_to_dataset(audio)\n",
        "    ds = self.preprocess(ds)\n",
        "\n",
        "    model_ds = self.model.FEATURE_CONVERTER_CLS(pack=False)(\n",
        "        ds, task_feature_lengths=self.sequence_length)\n",
        "    model_ds = model_ds.batch(self.batch_size)\n",
        "\n",
        "    inferences = (tokens for batch in model_ds.as_numpy_iterator()\n",
        "                  for tokens in self.predict_tokens(batch))\n",
        "\n",
        "    predictions = []\n",
        "    for example, tokens in zip(ds.as_numpy_iterator(), inferences):\n",
        "      predictions.append(self.postprocess(tokens, example))\n",
        "\n",
        "    result = metrics_utils.event_predictions_to_ns(\n",
        "        predictions, codec=self.codec, encoding_spec=self.encoding_spec)\n",
        "    return result['est_ns']\n",
        "\n",
        "  def audio_to_dataset(self, audio):\n",
        "    \"\"\"Create a TF Dataset of spectrograms from input audio.\"\"\"\n",
        "    frames, frame_times = self._audio_to_frames(audio)\n",
        "    return tf.data.Dataset.from_tensors({\n",
        "        'inputs': frames,\n",
        "        'input_times': frame_times,\n",
        "    })\n",
        "\n",
        "  def _audio_to_frames(self, audio):\n",
        "    \"\"\"Compute spectrogram frames from audio.\"\"\"\n",
        "    frame_size = self.spectrogram_config.hop_width\n",
        "    padding = [0, frame_size - len(audio) % frame_size]\n",
        "    audio = np.pad(audio, padding, mode='constant')\n",
        "    frames = spectrograms.split_audio(audio, self.spectrogram_config)\n",
        "    num_frames = len(audio) // frame_size\n",
        "    times = np.arange(num_frames) / self.spectrogram_config.frames_per_second\n",
        "    return frames, times\n",
        "\n",
        "  def preprocess(self, ds):\n",
        "    pp_chain = [\n",
        "        functools.partial(\n",
        "            t5.data.preprocessors.split_tokens_to_inputs_length,\n",
        "            sequence_length=self.sequence_length,\n",
        "            output_features=self.output_features,\n",
        "            feature_key='inputs',\n",
        "            additional_feature_keys=['input_times']),\n",
        "        # Cache occurs here during training.\n",
        "        preprocessors.add_dummy_targets,\n",
        "        functools.partial(\n",
        "            preprocessors.compute_spectrograms,\n",
        "            spectrogram_config=self.spectrogram_config)\n",
        "    ]\n",
        "    for pp in pp_chain:\n",
        "      ds = pp(ds)\n",
        "    return ds\n",
        "\n",
        "  def postprocess(self, tokens, example):\n",
        "    tokens = self._trim_eos(tokens)\n",
        "    start_time = example['input_times'][0]\n",
        "    # Round down to nearest symbolic token step.\n",
        "    start_time -= start_time % (1 / self.codec.steps_per_second)\n",
        "    return {\n",
        "        'est_tokens': tokens,\n",
        "        'start_time': start_time,\n",
        "        # Internal MT3 code expects raw inputs, not used here.\n",
        "        'raw_inputs': []\n",
        "    }\n",
        "\n",
        "  @staticmethod\n",
        "  def _trim_eos(tokens):\n",
        "    tokens = np.array(tokens, np.int32)\n",
        "    if vocabularies.DECODED_EOS_ID in tokens:\n",
        "      tokens = tokens[:np.argmax(tokens == vocabularies.DECODED_EOS_ID)]\n",
        "    return tokens\n",
        "\n"
      ]
    },
    {
      "cell_type": "code",
      "execution_count": null,
      "metadata": {
        "id": "yGQ-zpgy3raf"
      },
      "outputs": [],
      "source": [
        "#@title Load Model\n",
        "#@markdown The `ismir2021` model transcribes piano only, with note velocities.\n",
        "#@markdown The `mt3` model transcribes multiple simultaneous instruments,\n",
        "#@markdown but without velocities.\n",
        "\n",
        "MODEL = \"ismir2021\" #@param[\"ismir2021\", \"mt3\"]\n",
        "\n",
        "#@markdown Note: sometimes this cell appears to still be executing when it has\n",
        "#@markdown in fact completed, possibly due to a Colab UI bug.  If you're unsure,\n",
        "#@markdown try running the next cell.\n",
        "\n",
        "checkpoint_path = f'/content/checkpoints/{MODEL}/'\n",
        "\n",
        "load_gtag()\n",
        "\n",
        "log_event('loadModelStart', {'event_category': MODEL})\n",
        "inference_model = InferenceModel(checkpoint_path, MODEL)\n",
        "log_event('loadModelComplete', {'event_category': MODEL})\n"
      ]
    },
    {
      "cell_type": "code",
      "source": [
        "# from scipy.io import wavfile"
      ],
      "metadata": {
        "id": "OXUx_Nk5veD5"
      },
      "execution_count": null,
      "outputs": []
    },
    {
      "cell_type": "code",
      "execution_count": null,
      "metadata": {
        "id": "s2s3JAvBAgFB",
        "colab": {
          "resources": {
            "http://localhost:8080/nbextensions/google.colab/files.js": {
              "data": "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",
              "ok": true,
              "headers": [
                [
                  "content-type",
                  "application/javascript"
                ]
              ],
              "status": 200,
              "status_text": ""
            }
          },
          "base_uri": "https://localhost:8080/",
          "height": 133
        },
        "outputId": "4d4e8a5e-8c64-4b8d-d6f0-9d1bc69bc663"
      },
      "outputs": [
        {
          "output_type": "display_data",
          "data": {
            "text/plain": [
              "<IPython.core.display.HTML object>"
            ],
            "text/html": [
              "\n",
              "<!-- Global site tag (gtag.js) - Google Analytics -->\n",
              "<script async src=\"https://www.googletagmanager.com/gtag/js?id=UA-80107903-6\"></script>\n",
              "<script>\n",
              "  window.dataLayer = window.dataLayer || [];\n",
              "  function gtag(){dataLayer.push(arguments);}\n",
              "  gtag('js', new Date());\n",
              "  gtag('config', 'UA-80107903-6',\n",
              "       {'referrer': document.referrer.split('?')[0],\n",
              "        'anonymize_ip': true,\n",
              "        'page_title': '',\n",
              "        'page_referrer': '',\n",
              "        'cookie_prefix': 'magenta',\n",
              "        'cookie_domain': 'auto',\n",
              "        'cookie_expires': 0,\n",
              "        'cookie_flags': 'SameSite=None;Secure'});\n",
              "</script>\n"
            ]
          },
          "metadata": {}
        },
        {
          "output_type": "display_data",
          "data": {
            "text/plain": [
              "<IPython.core.display.Javascript object>"
            ],
            "application/javascript": [
              "gtag('event', 'uploadAudioStart', {});"
            ]
          },
          "metadata": {}
        },
        {
          "output_type": "display_data",
          "data": {
            "text/plain": [
              "<IPython.core.display.HTML object>"
            ],
            "text/html": [
              "\n",
              "     <input type=\"file\" id=\"files-f3c543d4-e389-436d-979e-8cf76dec024d\" name=\"files[]\" multiple disabled\n",
              "        style=\"border:none\" />\n",
              "     <output id=\"result-f3c543d4-e389-436d-979e-8cf76dec024d\">\n",
              "      Upload widget is only available when the cell has been executed in the\n",
              "      current browser session. Please rerun this cell to enable.\n",
              "      </output>\n",
              "      <script src=\"/nbextensions/google.colab/files.js\"></script> "
            ]
          },
          "metadata": {}
        },
        {
          "output_type": "stream",
          "name": "stdout",
          "text": [
            "Saving 폴킴 - 커피 한 잔 할래요.wav to 폴킴 - 커피 한 잔 할래요.wav\n"
          ]
        },
        {
          "output_type": "display_data",
          "data": {
            "text/plain": [
              "<IPython.core.display.Javascript object>"
            ],
            "application/javascript": [
              "gtag('event', 'uploadAudioComplete', {\"value\": 258});"
            ]
          },
          "metadata": {}
        },
        {
          "output_type": "display_data",
          "data": {
            "text/plain": [
              "<IPython.core.display.HTML object>"
            ],
            "text/html": [
              "<div id=\"id_1\"> </div>"
            ]
          },
          "metadata": {}
        }
      ],
      "source": [
        "# title Upload Audio\n",
        "\n",
        "load_gtag()\n",
        "\n",
        "log_event('uploadAudioStart', {})\n",
        "audio = upload_audio(sample_rate=SAMPLE_RATE)\n",
        "log_event('uploadAudioComplete', {'value': round(len(audio) / SAMPLE_RATE)})\n",
        "\n",
        "note_seq.notebook_utils.colab_play(audio, sample_rate=SAMPLE_RATE)"
      ]
    },
    {
      "cell_type": "code",
      "execution_count": null,
      "metadata": {
        "id": "HSKNjUYYv1kV"
      },
      "outputs": [],
      "source": [
        "# Transcribe Audio\n",
        "# This may take a few minutes depending on the length of the audio file\n",
        "# you uploaded.\n",
        "\n",
        "load_gtag()\n",
        "\n",
        "log_event('transcribeStart', {\n",
        "    'event_category': MODEL,\n",
        "    'value': round(len(audio) / SAMPLE_RATE)\n",
        "})\n",
        "\n",
        "est_ns = inference_model(audio)\n",
        "\n",
        "log_event('transcribeComplete', {\n",
        "    'event_category': MODEL,\n",
        "    'value': round(len(audio) / SAMPLE_RATE),\n",
        "    'numNotes': sum(1 for note in est_ns.notes if not note.is_drum),\n",
        "    'numDrumNotes': sum(1 for note in est_ns.notes if note.is_drum),\n",
        "    'numPrograms': len(set(note.program for note in est_ns.notes\n",
        "                           if not note.is_drum))\n",
        "})\n",
        "\n",
        "note_seq.play_sequence(est_ns, synth=note_seq.fluidsynth, \n",
        "                       sample_rate=SAMPLE_RATE, sf2_path=SF2_PATH)\n",
        "note_seq.plot_sequence(est_ns)"
      ]
    },
    {
      "cell_type": "code",
      "execution_count": null,
      "metadata": {
        "id": "-DiCjtDpyUMh",
        "colab": {
          "base_uri": "https://localhost:8080/",
          "height": 17
        },
        "outputId": "7d1a5241-3325-401a-df60-c432bde1a015"
      },
      "outputs": [
        {
          "output_type": "display_data",
          "data": {
            "text/plain": [
              "<IPython.core.display.HTML object>"
            ],
            "text/html": [
              "\n",
              "<!-- Global site tag (gtag.js) - Google Analytics -->\n",
              "<script async src=\"https://www.googletagmanager.com/gtag/js?id=UA-80107903-6\"></script>\n",
              "<script>\n",
              "  window.dataLayer = window.dataLayer || [];\n",
              "  function gtag(){dataLayer.push(arguments);}\n",
              "  gtag('js', new Date());\n",
              "  gtag('config', 'UA-80107903-6',\n",
              "       {'referrer': document.referrer.split('?')[0],\n",
              "        'anonymize_ip': true,\n",
              "        'page_title': '',\n",
              "        'page_referrer': '',\n",
              "        'cookie_prefix': 'magenta',\n",
              "        'cookie_domain': 'auto',\n",
              "        'cookie_expires': 0,\n",
              "        'cookie_flags': 'SameSite=None;Secure'});\n",
              "</script>\n"
            ]
          },
          "metadata": {}
        },
        {
          "output_type": "display_data",
          "data": {
            "text/plain": [
              "<IPython.core.display.Javascript object>"
            ],
            "application/javascript": [
              "gtag('event', 'downloadTranscription', {\"event_category\": \"ismir2021\", \"value\": 258, \"numNotes\": 2080, \"numDrumNotes\": 0, \"numPrograms\": 1});"
            ]
          },
          "metadata": {}
        },
        {
          "output_type": "display_data",
          "data": {
            "text/plain": [
              "<IPython.core.display.Javascript object>"
            ],
            "application/javascript": [
              "\n",
              "    async function download(id, filename, size) {\n",
              "      if (!google.colab.kernel.accessAllowed) {\n",
              "        return;\n",
              "      }\n",
              "      const div = document.createElement('div');\n",
              "      const label = document.createElement('label');\n",
              "      label.textContent = `Downloading \"${filename}\": `;\n",
              "      div.appendChild(label);\n",
              "      const progress = document.createElement('progress');\n",
              "      progress.max = size;\n",
              "      div.appendChild(progress);\n",
              "      document.body.appendChild(div);\n",
              "\n",
              "      const buffers = [];\n",
              "      let downloaded = 0;\n",
              "\n",
              "      const channel = await google.colab.kernel.comms.open(id);\n",
              "      // Send a message to notify the kernel that we're ready.\n",
              "      channel.send({})\n",
              "\n",
              "      for await (const message of channel.messages) {\n",
              "        // Send a message to notify the kernel that we're ready.\n",
              "        channel.send({})\n",
              "        if (message.buffers) {\n",
              "          for (const buffer of message.buffers) {\n",
              "            buffers.push(buffer);\n",
              "            downloaded += buffer.byteLength;\n",
              "            progress.value = downloaded;\n",
              "          }\n",
              "        }\n",
              "      }\n",
              "      const blob = new Blob(buffers, {type: 'application/binary'});\n",
              "      const a = document.createElement('a');\n",
              "      a.href = window.URL.createObjectURL(blob);\n",
              "      a.download = filename;\n",
              "      div.appendChild(a);\n",
              "      a.click();\n",
              "      div.remove();\n",
              "    }\n",
              "  "
            ]
          },
          "metadata": {}
        },
        {
          "output_type": "display_data",
          "data": {
            "text/plain": [
              "<IPython.core.display.Javascript object>"
            ],
            "application/javascript": [
              "download(\"download_804c848f-566e-4912-b714-1f02f7094e1e\", \"transcribed.mid\", 12780)"
            ]
          },
          "metadata": {}
        }
      ],
      "source": [
        "# Download MIDI Transcription\n",
        "\n",
        "load_gtag()\n",
        "log_event('downloadTranscription', {\n",
        "    'event_category': MODEL,\n",
        "    'value': round(len(audio) / SAMPLE_RATE),\n",
        "    'numNotes': sum(1 for note in est_ns.notes if not note.is_drum),\n",
        "    'numDrumNotes': sum(1 for note in est_ns.notes if note.is_drum),\n",
        "    'numPrograms': len(set(note.program for note in est_ns.notes\n",
        "                           if not note.is_drum))\n",
        "})\n",
        "\n",
        "note_seq.sequence_proto_to_midi_file(est_ns, '/tmp/transcribed.mid')\n",
        "files.download('/tmp/transcribed.mid')"
      ]
    },
    {
      "cell_type": "markdown",
      "source": [
        "# 채보"
      ],
      "metadata": {
        "id": "iecix_KDFQj1"
      }
    },
    {
      "cell_type": "code",
      "source": [
        "!add-apt-repository ppa:mscore-ubuntu/mscore-stable -y\n",
        "!apt-get update\n",
        "!apt-get install musescore\n",
        "\n",
        "!apt-get install xvfb\n",
        "\n",
        "!sh -e /etc/init.d/x11-common start\n",
        "\n",
        "import os\n",
        "os.putenv('DISPLAY', ':99.0')\n",
        "\n",
        "!start-stop-daemon --start --pidfile /var/run/xvfb.pid --make-pidfile --background --exec /usr/bin/Xvfb -- :99 -screen 0 1024x768x24 -ac +extension GLX +render -noreset\n",
        "\n",
        "us = environment.UserSettings()\n",
        "us['musescoreDirectPNGPath'] = '/usr/bin/mscore'\n",
        "us['directoryScratch'] = '/tmp'"
      ],
      "metadata": {
        "id": "LEiQK97_FTMB"
      },
      "execution_count": null,
      "outputs": []
    },
    {
      "cell_type": "code",
      "source": [
        "from music21 import *\n",
        "import music21"
      ],
      "metadata": {
        "id": "uuZBq-TLCBk4"
      },
      "execution_count": null,
      "outputs": []
    },
    {
      "cell_type": "code",
      "source": [
        "f = note.Note(\"F5\")"
      ],
      "metadata": {
        "id": "XTt4NCQoEAJn"
      },
      "execution_count": null,
      "outputs": []
    },
    {
      "cell_type": "code",
      "source": [
        "f.show()"
      ],
      "metadata": {
        "colab": {
          "base_uri": "https://localhost:8080/",
          "height": 66
        },
        "id": "qKERSNGtEA2p",
        "outputId": "ccc07473-8c25-472e-da09-a909da8e17dc"
      },
      "execution_count": null,
      "outputs": [
        {
          "output_type": "display_data",
          "data": {
            "image/png": "[encoded data removed]",
            "text/plain": [
              "<IPython.core.display.Image object>"
            ]
          },
          "metadata": {
            "image/png": {
              "width": 137,
              "height": 49
            }
          }
        }
      ]
    },
    {
      "cell_type": "code",
      "source": [
        "a = note.Note(\"C#4\")\n",
        "a.show()"
      ],
      "metadata": {
        "colab": {
          "base_uri": "https://localhost:8080/",
          "height": 73
        },
        "id": "rHbxa-vXEjxL",
        "outputId": "e4a7b0c8-c430-485e-c264-eb6f3f75de00"
      },
      "execution_count": null,
      "outputs": [
        {
          "output_type": "display_data",
          "data": {
            "image/png": "[encoded data removed]",
            "text/plain": [
              "<IPython.core.display.Image object>"
            ]
          },
          "metadata": {
            "image/png": {
              "width": 147,
              "height": 56
            }
          }
        }
      ]
    },
    {
      "cell_type": "code",
      "source": [
        "parsed = music21.converter.parse('/content/transcribed (5).mid')"
      ],
      "metadata": {
        "id": "o-jCeOuKieYN"
      },
      "execution_count": null,
      "outputs": []
    },
    {
      "cell_type": "markdown",
      "source": [
        ""
      ],
      "metadata": {
        "id": "RDiYQxvTWXW5"
      }
    },
    {
      "cell_type": "code",
      "source": [
        "!pip install pytube"
      ],
      "metadata": {
        "colab": {
          "base_uri": "https://localhost:8080/"
        },
        "id": "FkGsNGXstnkT",
        "outputId": "c47f58de-c8e5-4808-9c6b-a34fe8ae7626"
      },
      "execution_count": null,
      "outputs": [
        {
          "output_type": "stream",
          "name": "stdout",
          "text": [
            "Looking in indexes: https://pypi.org/simple, https://us-python.pkg.dev/colab-wheels/public/simple/\n",
            "Requirement already satisfied: pytube in /usr/local/lib/python3.7/dist-packages (12.1.0)\n"
          ]
        }
      ]
    },
    {
      "cell_type": "code",
      "source": [
        "!pip install pydub"
      ],
      "metadata": {
        "colab": {
          "base_uri": "https://localhost:8080/"
        },
        "id": "4I2x65Dos8sc",
        "outputId": "3b48ccc8-35d6-451e-cbf9-9011a633d701"
      },
      "execution_count": null,
      "outputs": [
        {
          "output_type": "stream",
          "name": "stdout",
          "text": [
            "Looking in indexes: https://pypi.org/simple, https://us-python.pkg.dev/colab-wheels/public/simple/\n",
            "Collecting pydub\n",
            "  Downloading pydub-0.25.1-py2.py3-none-any.whl (32 kB)\n",
            "Installing collected packages: pydub\n",
            "Successfully installed pydub-0.25.1\n"
          ]
        }
      ]
    },
    {
      "cell_type": "code",
      "source": [
        "from pytube import YouTube\n",
        "from pydub import AudioSegment"
      ],
      "metadata": {
        "id": "z7TzPpzetU6g"
      },
      "execution_count": null,
      "outputs": []
    },
    {
      "cell_type": "code",
      "source": [
        "wav_path = \"wav_data\"\n",
        "\n",
        "def download_and_convert_wav():\n",
        "    if not os.path.exists(wav_path): os.mkdir(wav_path)\n",
        "    singer_song = input(\"가수 - 제목: \")\n",
        "    yt = YouTube(input(\"음원 유튜브 url: \"))\n",
        "    yt.streams.filter(only_audio=True).first().download(output_path=wav_path, filename=singer_song+\".mp3\")\n",
        "    AudioSegment.from_file(os.path.join(wav_path, singer_song+\".mp3\")).export(os.path.join(wav_path, singer_song+\".wav\"), format=\"wav\")\n",
        "    os.remove(os.path.join(wav_path, singer_song+\".mp3\"))"
      ],
      "metadata": {
        "id": "57m80QABl4L5"
      },
      "execution_count": null,
      "outputs": []
    },
    {
      "cell_type": "code",
      "source": [
        "download_and_convert_wav()"
      ],
      "metadata": {
        "colab": {
          "base_uri": "https://localhost:8080/"
        },
        "id": "8VcvjVtns_Ue",
        "outputId": "cb4756a5-aa5e-4b67-a5ae-bb907aaac23b"
      },
      "execution_count": null,
      "outputs": [
        {
          "name": "stdout",
          "output_type": "stream",
          "text": [
            "가수 - 제목: 폴킴 - 커피 한 잔 할래요\n",
            "음원 유튜브 url: https://www.youtube.com/watch?v=JaA8KuRAFCs\n"
          ]
        }
      ]
    },
    {
      "cell_type": "markdown",
      "source": [
        "# wav -> chord or note"
      ],
      "metadata": {
        "id": "KnCGQDDK10WL"
      }
    },
    {
      "cell_type": "code",
      "source": [
        "keyboard_nstrument = [\"KeyboardInstrument\", \"Piano\", \"Harpsichord\", \"Clavichord\", \"Celesta\", ]"
      ],
      "metadata": {
        "id": "aq7i4XXZ6_AA"
      },
      "execution_count": null,
      "outputs": []
    },
    {
      "cell_type": "code",
      "source": [
        "def get_notes_chords_rests(instrument_type, path):\n",
        "    try:\n",
        "        midi = converter.parse(path)\n",
        "        parts = instrument.partitionByInstrument(midi)\n",
        "        note_list = []\n",
        "        for music_instrument in range(len(parts)):\n",
        "            if parts.parts[music_instrument].id in instrument_type:\n",
        "                for element_by_offset in stream.iterator.OffsetIterator(parts[music_instrument]):\n",
        "                    for entry in element_by_offset:\n",
        "                        if isinstance(entry, note.Note):\n",
        "                            note_list.append(str(entry.pitch))\n",
        "                        elif isinstance(entry, chord.Chord):\n",
        "                            note_list.append('.'.join(str(n) for n in entry.normalOrder))\n",
        "                        elif isinstance(entry, note.Rest):\n",
        "                            note_list.append('Rest')\n",
        "        return note_list\n",
        "    except Exception as e:\n",
        "        print(\"failed on \", path)\n",
        "        pass"
      ],
      "metadata": {
        "id": "6rs9EhN8tA_o"
      },
      "execution_count": null,
      "outputs": []
    },
    {
      "cell_type": "code",
      "source": [
        "notes = get_notes_chords_rests(\"Piano\", \"/content/transcribed (5).mid\")"
      ],
      "metadata": {
        "id": "_cGx0oSQqJnb"
      },
      "execution_count": null,
      "outputs": []
    },
    {
      "cell_type": "code",
      "source": [
        "notes"
      ],
      "metadata": {
        "id": "0nMnNSBWCOdO"
      },
      "execution_count": null,
      "outputs": []
    },
    {
      "cell_type": "code",
      "source": [
        "cMajor = chord.Chord([notes[20]])\n",
        "cMajor.show()"
      ],
      "metadata": {
        "colab": {
          "base_uri": "https://localhost:8080/",
          "height": 72
        },
        "id": "DuXgYkv02JyD",
        "outputId": "42df4988-87f6-4f40-d599-ae0491c9fd16"
      },
      "execution_count": null,
      "outputs": [
        {
          "output_type": "display_data",
          "data": {
            "image/png": "[encoded data removed]",
            "text/plain": [
              "<IPython.core.display.Image object>"
            ]
          },
          "metadata": {
            "image/png": {
              "width": 137,
              "height": 55
            }
          }
        }
      ]
    },
    {
      "cell_type": "code",
      "source": [
        "!pip install chord-extractor"
      ],
      "metadata": {
        "id": "XsO4YDWpGtTg"
      },
      "execution_count": null,
      "outputs": []
    },
    {
      "cell_type": "code",
      "source": [
        "from chord_extractor.extractors import Chordino\n",
        "from chord_extractor import clear_conversion_cache, LabelledChordSequence\n",
        "\n",
        "files_to_extract_from = [\n",
        "  '/content/transcribed (5).mid'\n",
        "]\n",
        "\n",
        "def save_to_db_cb(results: LabelledChordSequence):\n",
        "    # Every time one of the files has had chords extracted, receive the chords here \n",
        "    # along with the name of the original file and then run some logic here, e.g. to \n",
        "    # save the latest data to DB\n",
        "\n",
        "    chordino = Chordino()\n",
        "\n",
        "    # Optionally clear cache of file conversions (e.g. wav files that have been converted from midi)\n",
        "    clear_conversion_cache()\n",
        "\n",
        "    # Run bulk extraction\n",
        "    res = chordino.extract_many(files_to_extract_from, callback=save_to_db_cb, num_extractors=2,\n",
        "                                num_preprocessors=2, max_files_in_cache=10, stop_on_error=False)\n",
        "    # => LabelledChordSequence(\n",
        "    #\tid='/tmp/extractor/d8b8ab2f719e8cf40e7ec01abd116d3a', \n",
        "    #\tsequence=[ChordChange(chord='N', timestamp=0.371519274), \n",
        "    #\t    ChordChange(chord='C', timestamp=0.743038548), \n",
        "    #\t    ChordChange(chord='Am7b5', timestamp=8.54494331),...])"
      ],
      "metadata": {
        "id": "FiI6U31CG-Ah"
      },
      "execution_count": null,
      "outputs": []
    },
    {
      "cell_type": "code",
      "source": [
        "save_to_db_cb(files_to_extract_from)"
      ],
      "metadata": {
        "id": "UlquoegCI7wk"
      },
      "execution_count": null,
      "outputs": []
    }
  ],
  "metadata": {
    "accelerator": "GPU",
    "colab": {
      "collapsed_sections": [],
      "name": "Music Transcription with Transformers의 사본",
      "provenance": []
    },
    "kernelspec": {
      "display_name": "Python 3",
      "name": "python3"
    },
    "gpuClass": "standard"
  },
  "nbformat": 4,
  "nbformat_minor": 0
}