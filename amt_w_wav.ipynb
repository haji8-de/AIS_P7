{
 "cells": [
  {
   "cell_type": "code",
   "execution_count": null,
   "metadata": {},
   "outputs": [],
   "source": [
    "from pytube import Youtube\n",
    "from pydub import AudioSegment"
   ]
  },
  {
   "cell_type": "code",
   "execution_count": null,
   "metadata": {},
   "outputs": [],
   "source": [
    "wav_path = \"./wav_data\"\n",
    "def download_and_convert_wav():\n",
    "    if not os.path.exists(wav_path): os.mkdir(wav_path)\n",
    "    singer_song = input(\"가수 - 제목: \")\n",
    "    yt = Youtube(input(\"음원 유튜브 url: \"))\n",
    "    yt.streams.filter(only_audio=True).first().download(output_path=\"./\", filename=singer_song+\".mp3\")\n",
    "    AudioSegment.from_file(os.path.join(wav_path, singer_song+\".mp3\")).export(os.path.join(wav_path, singer_song+\".wav\"), format=\"wav\")    "
   ]
  }
 ],
 "metadata": {
  "language_info": {
   "name": "python"
  },
  "orig_nbformat": 4
 },
 "nbformat": 4,
 "nbformat_minor": 2
}
