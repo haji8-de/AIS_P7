{
 "cells": [
  {
   "cell_type": "markdown",
   "metadata": {},
   "source": [
    "# RSE"
   ]
  },
  {
   "cell_type": "code",
   "execution_count": 1,
   "metadata": {},
   "outputs": [
    {
     "name": "stderr",
     "output_type": "stream",
     "text": [
      "c:\\Users\\spec3\\anaconda3\\envs\\dgdg\\lib\\site-packages\\scipy\\__init__.py:146: UserWarning: A NumPy version >=1.16.5 and <1.23.0 is required for this version of SciPy (detected version 1.23.1\n",
      "  warnings.warn(f\"A NumPy version >={np_minversion} and <{np_maxversion}\"\n"
     ]
    }
   ],
   "source": [
    "import os\n",
    "import warnings\n",
    "import signal\n",
    "import numpy as np\n",
    "import torch\n",
    "import torch.nn as nn\n",
    "import torch_optimizer\n",
    "import matplotlib.pyplot as plt\n",
    "from time import time\n",
    "from musicnet_dataset import MusicNet\n",
    "from musicnet_model import MusicNetModel\n",
    "from torch.utils.data import DataLoader\n",
    "from tqdm.auto import tqdm\n",
    "from sklearn.metrics import average_precision_score"
   ]
  },
  {
   "cell_type": "code",
   "execution_count": 2,
   "metadata": {},
   "outputs": [
    {
     "data": {
      "text/plain": [
       "device(type='cuda')"
      ]
     },
     "execution_count": 2,
     "metadata": {},
     "output_type": "execute_result"
    }
   ],
   "source": [
    "N_EPOCHS = 100\n",
    "EPOCH_SIZE = 2_000\n",
    "EVAL_SIZE = 1_000\n",
    "BATCH_SIZE = 4\n",
    "SMOOTH = 0.1\n",
    "kwargs = {'pin_memory': True}\n",
    "device = torch.device(\"cuda\" if torch.cuda.is_available() else \"cpu\")\n",
    "device"
   ]
  },
  {
   "cell_type": "code",
   "execution_count": 3,
   "metadata": {},
   "outputs": [
    {
     "data": {
      "image/png": "[encoded data removed]",
      "text/plain": [
       "<Figure size 432x288 with 1 Axes>"
      ]
     },
     "metadata": {
      "needs_background": "light"
     },
     "output_type": "display_data"
    }
   ],
   "source": [
    "def get_weights(n=2048, delta=0.1):\n",
    "    xs = np.linspace(-0.25, 0.75, 2048)\n",
    "    ys = 1 / np.pi * np.arctan(np.sin(2*np.pi*xs) / delta) + 0.5\n",
    "    return torch.tensor(ys)\n",
    "\n",
    "plt.plot(np.linspace(0, 1, 2048), get_weights(delta=0.5));"
   ]
  },
  {
   "cell_type": "code",
   "execution_count": 5,
   "metadata": {},
   "outputs": [
    {
     "name": "stdout",
     "output_type": "stream",
     "text": [
      "Downloading https://zenodo.org/record/5120004/files/musicnet.tar.gz\n"
     ]
    }
   ],
   "source": [
    "with MusicNet('./data', train=True, download=True, window=8192, epoch_size=EPOCH_SIZE, pitch_shift=64) as train_dataset,\\\n",
    "    MusicNet('./data', train=False, download=True, window=8192, epoch_size=EVAL_SIZE, pitch_shift=64) as test_dataset:\n",
    "\n",
    "    model = MusicNetModel()\n",
    "    model.to(device)\n",
    "\n",
    "    optimizer = torch_optimizer.RAdam(model.parameters(), lr=0.00125*np.sqrt(0.5))\n",
    "    scheduler = torch.optim.lr_scheduler.StepLR(optimizer, step_size=1, gamma=0.5)\n",
    "\n",
    "    loss_fn = nn.BCEWithLogitsLoss(reduction='none', pos_weight=torch.ones([128])*50)\n",
    "    loss_fn.to(device)\n",
    "\n",
    "    weights = get_weights(n=2048, delta=0.5).to(device)\n",
    "\n",
    "    train_loader = DataLoader(train_dataset, batch_size=BATCH_SIZE, drop_last=True, **kwargs)\n",
    "    test_loader = DataLoader(test_dataset, batch_size=BATCH_SIZE, drop_last=True, **kwargs)\n",
    "\n",
    "    for epoch in range(N_EPOCHS):\n",
    "\n",
    "        t = tqdm(train_loader, total=EPOCH_SIZE // BATCH_SIZE, desc=f\"Train. Epoch {epoch}, loss:\")\n",
    "        losses = []\n",
    "        model.train()\n",
    "        for inputs, targets in t:\n",
    "            optimizer.zero_grad()\n",
    "            outputs = model(inputs.unsqueeze(-2).to(device))\n",
    "            targets = targets[:, ::4, :]\n",
    "            targets = (1 - SMOOTH*2) * targets + SMOOTH  # Label smoothing\n",
    "            loss = loss_fn(outputs, targets.to(device))\n",
    "            loss = (loss.permute(0, 2, 1) * weights).mean()\n",
    "            loss.backward()\n",
    "            optimizer.step()\n",
    "            losses.append(loss.item())\n",
    "            t.set_description(f\"Train. Epoch {epoch}, loss: {np.mean(losses[-100:]):.3f}\")\n",
    "        scheduler.step()\n",
    "\n",
    "        t = tqdm(test_loader, total=EVAL_SIZE // BATCH_SIZE, desc=f\"Validation. Epoch {epoch}.\", leave=False)\n",
    "\n",
    "        all_targets = []\n",
    "        all_preds = []\n",
    "\n",
    "        model.eval()\n",
    "        for inputs, targets in t:\n",
    "            with torch.no_grad():\n",
    "                outputs = model(inputs.unsqueeze(-2).to(device))\n",
    "                outputs = outputs[:, 1024, :].squeeze(1)\n",
    "                targets = targets[:, 4096, :].squeeze(1)\n",
    "                all_targets += list(targets.numpy())\n",
    "                all_preds += list(outputs.detach().cpu().numpy())\n",
    "\n",
    "        targets_np = np.array(all_targets)\n",
    "        preds_np = np.array(all_preds)\n",
    "        mask = targets_np.sum(axis=0) > 0\n",
    "\n",
    "        print(f\"Epoch {epoch}. APS: {average_precision_score(targets_np[:, mask], preds_np[:, mask]) : .2%}.\")"
   ]
  }
 ],
 "metadata": {
  "kernelspec": {
   "display_name": "Python 3.8.13 ('dgdg')",
   "language": "python",
   "name": "python3"
  },
  "language_info": {
   "codemirror_mode": {
    "name": "ipython",
    "version": 3
   },
   "file_extension": ".py",
   "mimetype": "text/x-python",
   "name": "python",
   "nbconvert_exporter": "python",
   "pygments_lexer": "ipython3",
   "version": "3.8.13"
  },
  "orig_nbformat": 4,
  "vscode": {
   "interpreter": {
    "hash": "2076adaa342e4728b5f632fbf189c39b5d1811ef76d2fb06a694f637be620194"
   }
  }
 },
 "nbformat": 4,
 "nbformat_minor": 2
}
