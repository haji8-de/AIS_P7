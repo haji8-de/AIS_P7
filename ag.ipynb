{
 "cells": [
  {
   "cell_type": "code",
   "execution_count": 14,
   "metadata": {},
   "outputs": [],
   "source": [
    "import pandas as pd\n",
    "import numpy as np\n",
    "from mido import MidiFile\n",
    "import pygame\n",
    "import IPython\n",
    "import matplotlib.pyplot as plt\n",
    "import librosa.display\n",
    "\n",
    "import tensorflow as tf\n",
    "from tensorflow.keras.models import Sequential\n",
    "from tensorflow.keras.layers import SimpleRNN, LSTM, GRU, Dense, Flatten, Dropout\n",
    "\n",
    "from sklearn.model_selection import train_test_split\n",
    "\n",
    "from IPython import *\n",
    "from music21 import *\n",
    "\n",
    "import os"
   ]
  },
  {
   "cell_type": "code",
   "execution_count": 3,
   "metadata": {},
   "outputs": [],
   "source": [
    "path = \"./musicnet_dataset/musicnet_midis/musicnet_midis/Beethoven/\"\n",
    "\n",
    "note_on=[]\n",
    "n=50\n",
    "for m in range(n):\n",
    "    mid=MidiFile(path+os.listdir(path)[m],clip=True)\n",
    "    for j in range(len(mid.tracks)):\n",
    "        for i in mid.tracks[j] :\n",
    "            if str(type(i))!=\"<class 'mido.midifiles.meta.MetaMessage'>\" :\n",
    "                x=str(i).split(' ')\n",
    "                if x[0]=='note_on':\n",
    "                    note_on.append(int(x[2].split('=')[1]))"
   ]
  },
  {
   "cell_type": "code",
   "execution_count": 5,
   "metadata": {},
   "outputs": [
    {
     "data": {
      "text/plain": [
       "235667"
      ]
     },
     "execution_count": 5,
     "metadata": {},
     "output_type": "execute_result"
    }
   ],
   "source": [
    "len(note_on)"
   ]
  },
  {
   "cell_type": "code",
   "execution_count": 6,
   "metadata": {},
   "outputs": [],
   "source": [
    "train_data = []\n",
    "labels = []\n",
    "\n",
    "for i in range(20, len(note_on)):\n",
    "    train_data.append(note_on[i-20:i])\n",
    "    labels.append(note_on[i])"
   ]
  },
  {
   "cell_type": "code",
   "execution_count": 8,
   "metadata": {},
   "outputs": [
    {
     "data": {
      "text/plain": [
       "[69,\n",
       " 63,\n",
       " 64,\n",
       " 72,\n",
       " 71,\n",
       " 80,\n",
       " 81,\n",
       " 83,\n",
       " 84,\n",
       " 84,\n",
       " 83,\n",
       " 75,\n",
       " 76,\n",
       " 77,\n",
       " 77,\n",
       " 76,\n",
       " 74,\n",
       " 77,\n",
       " 74,\n",
       " 72]"
      ]
     },
     "execution_count": 8,
     "metadata": {},
     "output_type": "execute_result"
    }
   ],
   "source": [
    "train_data[0]"
   ]
  },
  {
   "cell_type": "code",
   "execution_count": 9,
   "metadata": {},
   "outputs": [
    {
     "data": {
      "text/plain": [
       "71"
      ]
     },
     "execution_count": 9,
     "metadata": {},
     "output_type": "execute_result"
    }
   ],
   "source": [
    "labels[0]"
   ]
  },
  {
   "cell_type": "code",
   "execution_count": 24,
   "metadata": {},
   "outputs": [],
   "source": [
    "model = Sequential()\n",
    "model.add(LSTM(200, input_shape=(20, 1), unroll=True, return_sequences=True))\n",
    "model.add(Dropout(0.4))\n",
    "model.add(LSTM(100))\n",
    "model.add(Dense(100, activation=\"relu\"))\n",
    "model.add(Dense(1, activation=\"relu\"))"
   ]
  },
  {
   "cell_type": "code",
   "execution_count": 25,
   "metadata": {},
   "outputs": [],
   "source": [
    "model.compile(\n",
    "    optimizer = \"adam\",\n",
    "    loss = tf.keras.losses.MeanSquaredError()\n",
    ")"
   ]
  },
  {
   "cell_type": "code",
   "execution_count": 17,
   "metadata": {},
   "outputs": [],
   "source": [
    "train_data = np.array(train_data)\n",
    "train_data = train_data.reshape((train_data.shape[0], train_data.shape[1], 1))\n",
    "labels = np.array(labels)"
   ]
  },
  {
   "cell_type": "code",
   "execution_count": 20,
   "metadata": {},
   "outputs": [],
   "source": [
    "X_train, X_test, y_train, y_test = train_test_split(train_data, labels, test_size=0.05, random_state=42)"
   ]
  },
  {
   "cell_type": "code",
   "execution_count": 22,
   "metadata": {},
   "outputs": [
    {
     "data": {
      "text/plain": [
       "((223864, 20, 1), (223864,), (11783, 20, 1), (11783,))"
      ]
     },
     "execution_count": 22,
     "metadata": {},
     "output_type": "execute_result"
    }
   ],
   "source": [
    "X_train.shape, y_train.shape, X_test.shape, y_test.shape"
   ]
  },
  {
   "cell_type": "code",
   "execution_count": 26,
   "metadata": {},
   "outputs": [
    {
     "name": "stdout",
     "output_type": "stream",
     "text": [
      "Epoch 1/5\n",
      "6996/6996 [==============================] - 142s 20ms/step - loss: 76.1917 - val_loss: 48.9977\n",
      "Epoch 2/5\n",
      "6996/6996 [==============================] - 137s 20ms/step - loss: 48.0775 - val_loss: 44.8833\n",
      "Epoch 3/5\n",
      "6996/6996 [==============================] - 137s 20ms/step - loss: 44.8081 - val_loss: 43.1304\n",
      "Epoch 4/5\n",
      "6996/6996 [==============================] - 138s 20ms/step - loss: 43.1416 - val_loss: 41.2367\n",
      "Epoch 5/5\n",
      "6996/6996 [==============================] - 140s 20ms/step - loss: 42.0242 - val_loss: 44.7546\n"
     ]
    }
   ],
   "source": [
    "with tf.device(\"/device:GPU:0\"):\n",
    "    hist = model.fit(X_train, y_train, validation_data=(X_test, y_test), batch_size=32, epochs=5)"
   ]
  },
  {
   "cell_type": "code",
   "execution_count": 27,
   "metadata": {},
   "outputs": [
    {
     "data": {
      "text/plain": [
       "[<matplotlib.lines.Line2D at 0x1cc0aa383a0>]"
      ]
     },
     "execution_count": 27,
     "metadata": {},
     "output_type": "execute_result"
    },
    {
     "data": {
      "image/png": "[encoded data removed]",
      "text/plain": [
       "<Figure size 432x288 with 1 Axes>"
      ]
     },
     "metadata": {
      "image/png": {
       "height": 248,
       "width": 368
      },
      "needs_background": "light"
     },
     "output_type": "display_data"
    }
   ],
   "source": [
    "history=model.history.history\n",
    "plt.plot([i for i in range(len(history['loss']))],history['loss'])\n",
    "plt.plot([i for i in range(len(history['val_loss']))],history['val_loss'])"
   ]
  },
  {
   "cell_type": "code",
   "execution_count": 28,
   "metadata": {},
   "outputs": [],
   "source": [
    "pred = model.predict(train_data[0].reshape(1, 20, 1))"
   ]
  },
  {
   "cell_type": "code",
   "execution_count": 29,
   "metadata": {},
   "outputs": [
    {
     "data": {
      "text/plain": [
       "array([[70.27736]], dtype=float32)"
      ]
     },
     "execution_count": 29,
     "metadata": {},
     "output_type": "execute_result"
    }
   ],
   "source": [
    "pred"
   ]
  },
  {
   "cell_type": "code",
   "execution_count": 31,
   "metadata": {},
   "outputs": [
    {
     "data": {
      "text/plain": [
       "70.27736"
      ]
     },
     "execution_count": 31,
     "metadata": {},
     "output_type": "execute_result"
    }
   ],
   "source": [
    "pred[0][0]"
   ]
  },
  {
   "cell_type": "code",
   "execution_count": 49,
   "metadata": {},
   "outputs": [],
   "source": [
    "n=200\n",
    "starter_notes=train_data[0]\n",
    "x=train_data[0].reshape(1,20,1)\n",
    "tune=list(train_data[0].reshape(-1,))\n",
    "\n",
    "for i in range(n) :\n",
    "    pred=int(model.predict(x)[0][0])\n",
    "    if round(pred)==round(tune[-1]):\n",
    "        p=np.random.choice(['a','b','c'])\n",
    "        if p=='a':\n",
    "            pred=65\n",
    "        elif p=='b':\n",
    "            pred=60\n",
    "        else:\n",
    "            pred=70\n",
    "    tune.append(pred)"
   ]
  },
  {
   "cell_type": "code",
   "execution_count": 52,
   "metadata": {},
   "outputs": [],
   "source": [
    "x = tune[-10:]\n",
    "x = np.array(x)\n",
    "x = x.reshape(1, 10, 1)"
   ]
  },
  {
   "cell_type": "code",
   "execution_count": 53,
   "metadata": {},
   "outputs": [],
   "source": [
    "tune=list(np.array(tune).astype('float32'))"
   ]
  },
  {
   "cell_type": "code",
   "execution_count": 54,
   "metadata": {},
   "outputs": [],
   "source": [
    "offset = 0\n",
    "output_notes = []\n",
    "# create note and chord objects based on the values generated by the model\n",
    "for patterns in tune:\n",
    "    pattern=str(patterns)\n",
    "    # pattern is a chord\n",
    "    if ('.' in pattern) or pattern.isdigit():\n",
    "        notes_in_chord = pattern.split('.')\n",
    "        notes = []\n",
    "        for current_note in notes_in_chord:\n",
    "            new_note = note.Note(int(current_note))\n",
    "            new_note.storedInstrument = instrument.Piano()\n",
    "            notes.append(new_note)\n",
    "        new_chord = chord.Chord(notes)\n",
    "        new_chord.offset = offset\n",
    "        output_notes.append(new_chord)\n",
    "    # pattern is a note\n",
    "    else:\n",
    "        new_note = note.Note(pattern)\n",
    "        new_note.offset = offset\n",
    "        new_note.storedInstrument = instrument.Piano()\n",
    "        output_notes.append(new_note)\n",
    "    # increase offset each iteration so that notes do not stack\n",
    "    offset += 0.5"
   ]
  },
  {
   "cell_type": "code",
   "execution_count": 55,
   "metadata": {},
   "outputs": [
    {
     "data": {
      "text/plain": [
       "[<music21.chord.Chord A4 C>,\n",
       " <music21.chord.Chord E-4 C>,\n",
       " <music21.chord.Chord E4 C>,\n",
       " <music21.chord.Chord C5 C>,\n",
       " <music21.chord.Chord B4 C>,\n",
       " <music21.chord.Chord G#5 C>,\n",
       " <music21.chord.Chord A5 C>,\n",
       " <music21.chord.Chord B5 C>,\n",
       " <music21.chord.Chord C6 C>,\n",
       " <music21.chord.Chord C6 C>,\n",
       " <music21.chord.Chord B5 C>,\n",
       " <music21.chord.Chord E-5 C>,\n",
       " <music21.chord.Chord E5 C>,\n",
       " <music21.chord.Chord F5 C>,\n",
       " <music21.chord.Chord F5 C>,\n",
       " <music21.chord.Chord E5 C>,\n",
       " <music21.chord.Chord D5 C>,\n",
       " <music21.chord.Chord F5 C>,\n",
       " <music21.chord.Chord D5 C>,\n",
       " <music21.chord.Chord C5 C>,\n",
       " <music21.chord.Chord B-4 C>,\n",
       " <music21.chord.Chord B-4 C>,\n",
       " <music21.chord.Chord C4 C>,\n",
       " <music21.chord.Chord B-4 C>,\n",
       " <music21.chord.Chord C4 C>,\n",
       " <music21.chord.Chord B-4 C>,\n",
       " <music21.chord.Chord F4 C>,\n",
       " <music21.chord.Chord B-4 C>,\n",
       " <music21.chord.Chord C4 C>,\n",
       " <music21.chord.Chord B-4 C>,\n",
       " <music21.chord.Chord B-4 C>,\n",
       " <music21.chord.Chord F4 C>,\n",
       " <music21.chord.Chord B-4 C>,\n",
       " <music21.chord.Chord F4 C>,\n",
       " <music21.chord.Chord B-4 C>,\n",
       " <music21.chord.Chord F4 C>,\n",
       " <music21.chord.Chord B-4 C>,\n",
       " <music21.chord.Chord C4 C>,\n",
       " <music21.chord.Chord B-4 C>,\n",
       " <music21.chord.Chord B-4 C>,\n",
       " <music21.chord.Chord B-4 C>,\n",
       " <music21.chord.Chord B-4 C>,\n",
       " <music21.chord.Chord F4 C>,\n",
       " <music21.chord.Chord B-4 C>,\n",
       " <music21.chord.Chord C4 C>,\n",
       " <music21.chord.Chord B-4 C>,\n",
       " <music21.chord.Chord C4 C>,\n",
       " <music21.chord.Chord B-4 C>,\n",
       " <music21.chord.Chord B-4 C>,\n",
       " <music21.chord.Chord C4 C>,\n",
       " <music21.chord.Chord B-4 C>,\n",
       " <music21.chord.Chord C4 C>,\n",
       " <music21.chord.Chord B-4 C>,\n",
       " <music21.chord.Chord B-4 C>,\n",
       " <music21.chord.Chord B-4 C>,\n",
       " <music21.chord.Chord C4 C>,\n",
       " <music21.chord.Chord B-4 C>,\n",
       " <music21.chord.Chord F4 C>,\n",
       " <music21.chord.Chord B-4 C>,\n",
       " <music21.chord.Chord C4 C>,\n",
       " <music21.chord.Chord B-4 C>,\n",
       " <music21.chord.Chord F4 C>,\n",
       " <music21.chord.Chord B-4 C>,\n",
       " <music21.chord.Chord F4 C>,\n",
       " <music21.chord.Chord B-4 C>,\n",
       " <music21.chord.Chord F4 C>,\n",
       " <music21.chord.Chord B-4 C>,\n",
       " <music21.chord.Chord F4 C>,\n",
       " <music21.chord.Chord B-4 C>,\n",
       " <music21.chord.Chord B-4 C>,\n",
       " <music21.chord.Chord C4 C>,\n",
       " <music21.chord.Chord B-4 C>,\n",
       " <music21.chord.Chord C4 C>,\n",
       " <music21.chord.Chord B-4 C>,\n",
       " <music21.chord.Chord F4 C>,\n",
       " <music21.chord.Chord B-4 C>,\n",
       " <music21.chord.Chord C4 C>,\n",
       " <music21.chord.Chord B-4 C>,\n",
       " <music21.chord.Chord B-4 C>,\n",
       " <music21.chord.Chord B-4 C>,\n",
       " <music21.chord.Chord F4 C>,\n",
       " <music21.chord.Chord B-4 C>,\n",
       " <music21.chord.Chord C4 C>,\n",
       " <music21.chord.Chord B-4 C>,\n",
       " <music21.chord.Chord F4 C>,\n",
       " <music21.chord.Chord B-4 C>,\n",
       " <music21.chord.Chord B-4 C>,\n",
       " <music21.chord.Chord B-4 C>,\n",
       " <music21.chord.Chord C4 C>,\n",
       " <music21.chord.Chord B-4 C>,\n",
       " <music21.chord.Chord F4 C>,\n",
       " <music21.chord.Chord B-4 C>,\n",
       " <music21.chord.Chord C4 C>,\n",
       " <music21.chord.Chord B-4 C>,\n",
       " <music21.chord.Chord B-4 C>,\n",
       " <music21.chord.Chord F4 C>,\n",
       " <music21.chord.Chord B-4 C>,\n",
       " <music21.chord.Chord B-4 C>,\n",
       " <music21.chord.Chord B-4 C>,\n",
       " <music21.chord.Chord B-4 C>,\n",
       " <music21.chord.Chord B-4 C>,\n",
       " <music21.chord.Chord F4 C>,\n",
       " <music21.chord.Chord B-4 C>,\n",
       " <music21.chord.Chord F4 C>,\n",
       " <music21.chord.Chord B-4 C>,\n",
       " <music21.chord.Chord B-4 C>,\n",
       " <music21.chord.Chord C4 C>,\n",
       " <music21.chord.Chord B-4 C>,\n",
       " <music21.chord.Chord F4 C>,\n",
       " <music21.chord.Chord B-4 C>,\n",
       " <music21.chord.Chord F4 C>,\n",
       " <music21.chord.Chord B-4 C>,\n",
       " <music21.chord.Chord C4 C>,\n",
       " <music21.chord.Chord B-4 C>,\n",
       " <music21.chord.Chord C4 C>,\n",
       " <music21.chord.Chord B-4 C>,\n",
       " <music21.chord.Chord F4 C>,\n",
       " <music21.chord.Chord B-4 C>,\n",
       " <music21.chord.Chord C4 C>,\n",
       " <music21.chord.Chord B-4 C>,\n",
       " <music21.chord.Chord B-4 C>,\n",
       " <music21.chord.Chord B-4 C>,\n",
       " <music21.chord.Chord C4 C>,\n",
       " <music21.chord.Chord B-4 C>,\n",
       " <music21.chord.Chord C4 C>,\n",
       " <music21.chord.Chord B-4 C>,\n",
       " <music21.chord.Chord C4 C>,\n",
       " <music21.chord.Chord B-4 C>,\n",
       " <music21.chord.Chord B-4 C>,\n",
       " <music21.chord.Chord C4 C>,\n",
       " <music21.chord.Chord B-4 C>,\n",
       " <music21.chord.Chord C4 C>,\n",
       " <music21.chord.Chord B-4 C>,\n",
       " <music21.chord.Chord F4 C>,\n",
       " <music21.chord.Chord B-4 C>,\n",
       " <music21.chord.Chord B-4 C>,\n",
       " <music21.chord.Chord F4 C>,\n",
       " <music21.chord.Chord B-4 C>,\n",
       " <music21.chord.Chord F4 C>,\n",
       " <music21.chord.Chord B-4 C>,\n",
       " <music21.chord.Chord C4 C>,\n",
       " <music21.chord.Chord B-4 C>,\n",
       " <music21.chord.Chord C4 C>,\n",
       " <music21.chord.Chord B-4 C>,\n",
       " <music21.chord.Chord C4 C>,\n",
       " <music21.chord.Chord B-4 C>,\n",
       " <music21.chord.Chord C4 C>,\n",
       " <music21.chord.Chord B-4 C>,\n",
       " <music21.chord.Chord F4 C>,\n",
       " <music21.chord.Chord B-4 C>,\n",
       " <music21.chord.Chord C4 C>,\n",
       " <music21.chord.Chord B-4 C>,\n",
       " <music21.chord.Chord F4 C>,\n",
       " <music21.chord.Chord B-4 C>,\n",
       " <music21.chord.Chord C4 C>,\n",
       " <music21.chord.Chord B-4 C>,\n",
       " <music21.chord.Chord C4 C>,\n",
       " <music21.chord.Chord B-4 C>,\n",
       " <music21.chord.Chord C4 C>,\n",
       " <music21.chord.Chord B-4 C>,\n",
       " <music21.chord.Chord B-4 C>,\n",
       " <music21.chord.Chord F4 C>,\n",
       " <music21.chord.Chord B-4 C>,\n",
       " <music21.chord.Chord F4 C>,\n",
       " <music21.chord.Chord B-4 C>,\n",
       " <music21.chord.Chord F4 C>,\n",
       " <music21.chord.Chord B-4 C>,\n",
       " <music21.chord.Chord F4 C>,\n",
       " <music21.chord.Chord B-4 C>,\n",
       " <music21.chord.Chord F4 C>,\n",
       " <music21.chord.Chord B-4 C>,\n",
       " <music21.chord.Chord C4 C>,\n",
       " <music21.chord.Chord B-4 C>,\n",
       " <music21.chord.Chord B-4 C>,\n",
       " <music21.chord.Chord C4 C>,\n",
       " <music21.chord.Chord B-4 C>,\n",
       " <music21.chord.Chord B-4 C>,\n",
       " <music21.chord.Chord C4 C>,\n",
       " <music21.chord.Chord B-4 C>,\n",
       " <music21.chord.Chord B-4 C>,\n",
       " <music21.chord.Chord C4 C>,\n",
       " <music21.chord.Chord B-4 C>,\n",
       " <music21.chord.Chord C4 C>,\n",
       " <music21.chord.Chord B-4 C>,\n",
       " <music21.chord.Chord C4 C>,\n",
       " <music21.chord.Chord B-4 C>,\n",
       " <music21.chord.Chord F4 C>,\n",
       " <music21.chord.Chord B-4 C>,\n",
       " <music21.chord.Chord B-4 C>,\n",
       " <music21.chord.Chord B-4 C>,\n",
       " <music21.chord.Chord F4 C>,\n",
       " <music21.chord.Chord B-4 C>,\n",
       " <music21.chord.Chord C4 C>,\n",
       " <music21.chord.Chord B-4 C>,\n",
       " <music21.chord.Chord C4 C>,\n",
       " <music21.chord.Chord B-4 C>,\n",
       " <music21.chord.Chord C4 C>,\n",
       " <music21.chord.Chord B-4 C>,\n",
       " <music21.chord.Chord F4 C>,\n",
       " <music21.chord.Chord B-4 C>,\n",
       " <music21.chord.Chord B-4 C>,\n",
       " <music21.chord.Chord F4 C>,\n",
       " <music21.chord.Chord B-4 C>,\n",
       " <music21.chord.Chord B-4 C>,\n",
       " <music21.chord.Chord B-4 C>,\n",
       " <music21.chord.Chord C4 C>,\n",
       " <music21.chord.Chord B-4 C>,\n",
       " <music21.chord.Chord B-4 C>,\n",
       " <music21.chord.Chord F4 C>,\n",
       " <music21.chord.Chord B-4 C>,\n",
       " <music21.chord.Chord C4 C>,\n",
       " <music21.chord.Chord B-4 C>,\n",
       " <music21.chord.Chord C4 C>,\n",
       " <music21.chord.Chord B-4 C>,\n",
       " <music21.chord.Chord C4 C>,\n",
       " <music21.chord.Chord B-4 C>,\n",
       " <music21.chord.Chord B-4 C>,\n",
       " <music21.chord.Chord C4 C>,\n",
       " <music21.chord.Chord B-4 C>,\n",
       " <music21.chord.Chord C4 C>]"
      ]
     },
     "execution_count": 55,
     "metadata": {},
     "output_type": "execute_result"
    }
   ],
   "source": [
    "output_notes"
   ]
  },
  {
   "cell_type": "code",
   "execution_count": 56,
   "metadata": {},
   "outputs": [],
   "source": [
    "midi_stream = stream.Stream(output_notes)"
   ]
  },
  {
   "cell_type": "code",
   "execution_count": 61,
   "metadata": {},
   "outputs": [
    {
     "data": {
      "text/plain": [
       "'test_ouput.mid'"
      ]
     },
     "execution_count": 61,
     "metadata": {},
     "output_type": "execute_result"
    }
   ],
   "source": [
    "midi_stream.write(\"midi\", \"test_ouput.mid\")"
   ]
  }
 ],
 "metadata": {
  "kernelspec": {
   "display_name": "Python 3.8.13 ('dgdg')",
   "language": "python",
   "name": "python3"
  },
  "language_info": {
   "codemirror_mode": {
    "name": "ipython",
    "version": 3
   },
   "file_extension": ".py",
   "mimetype": "text/x-python",
   "name": "python",
   "nbconvert_exporter": "python",
   "pygments_lexer": "ipython3",
   "version": "3.8.13"
  },
  "orig_nbformat": 4,
  "vscode": {
   "interpreter": {
    "hash": "2076adaa342e4728b5f632fbf189c39b5d1811ef76d2fb06a694f637be620194"
   }
  }
 },
 "nbformat": 4,
 "nbformat_minor": 2
}
