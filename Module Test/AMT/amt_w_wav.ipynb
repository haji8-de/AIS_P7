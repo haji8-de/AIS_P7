{
 "cells": [
  {
   "cell_type": "markdown",
   "metadata": {},
   "source": [
    "# AMT\n",
    "### Libraries"
   ]
  },
  {
   "cell_type": "code",
   "execution_count": null,
   "metadata": {},
   "outputs": [],
   "source": [
    "from pytube import YouTube\n",
    "from pydub import AudioSegment\n",
    "import os\n",
    "# Visualize\n",
    "import numpy as np\n",
    "import matplotlib.pyplot as plt\n",
    "import seaborn as sns\n",
    "import IPython.display as ipd\n",
    "from vscode_audio import Audio\n",
    "from ipywidgets import interactive_output\n",
    "from ipywidgets import IntSlider, FloatSlider, fixed, Checkbox\n",
    "from ipywidgets import VBox, Label\n",
    "# Audio\n",
    "import librosa, librosa.display\n",
    "from midiutil import MIDIFile\n",
    "from music21.tempo import MetronomeMark\n",
    "from music21.note import Note, Rest\n",
    "from music21.stream import Stream\n",
    "from music21 import metadata\n",
    "from music21 import instrument\n",
    "from music21 import midi\n",
    "from music21.key import Key"
   ]
  },
  {
   "cell_type": "markdown",
   "metadata": {},
   "source": [
    "### Download and Convert .wav"
   ]
  },
  {
   "cell_type": "code",
   "execution_count": null,
   "metadata": {},
   "outputs": [],
   "source": [
    "wav_path = \"wav_data\"\n",
    "\n",
    "def download_and_convert_wav():\n",
    "    if not os.path.exists(wav_path): os.mkdir(wav_path)\n",
    "    singer_song = input(\"가수 - 제목: \")\n",
    "    yt = YouTube(input(\"음원 유튜브 url: \"))\n",
    "    yt.streams.filter(only_audio=True).first().download(output_path=wav_path, filename=singer_song+\".mp3\")\n",
    "    AudioSegment.from_file(os.path.join(wav_path, singer_song+\".mp3\")).export(os.path.join(wav_path, singer_song+\".wav\"), format=\"wav\")\n",
    "    os.remove(os.path.join(wav_path, singer_song+\".mp3\"))"
   ]
  },
  {
   "cell_type": "code",
   "execution_count": null,
   "metadata": {},
   "outputs": [],
   "source": [
    "download_and_convert_wav()"
   ]
  },
  {
   "cell_type": "markdown",
   "metadata": {},
   "source": [
    "### Configuration"
   ]
  },
  {
   "cell_type": "code",
   "execution_count": null,
   "metadata": {},
   "outputs": [],
   "source": [
    "plt.rc(\"figure\", figsize=(16, 8))\n",
    "\n",
    "fs = 44100                               # Sampling Frequency\n",
    "nfft = 2048                              # length of the FFT window\n",
    "overlap = 0.5                            # Hop overlap percentage\n",
    "hop_length = int(nfft*(1-overlap))       # Number of samples between successive frames\n",
    "n_bins = 72                              # Number of frequency bins\n",
    "mag_exp = 4                              # Magnitude Exponent\n",
    "pre_post_max = 6                         # Pre- and post- samples for peak picking\n",
    "cqt_threshold = -61                      # Threshold for CQT dB levels, all values below threshold are set to -120 dB"
   ]
  },
  {
   "cell_type": "markdown",
   "metadata": {},
   "source": [
    "### Load Audio"
   ]
  },
  {
   "cell_type": "code",
   "execution_count": null,
   "metadata": {},
   "outputs": [],
   "source": [
    "filename = os.path.join(wav_path, \"test\"+\".wav\")\n",
    "\n",
    "x, fs = librosa.load(filename, sr=None, mono=True) #, duration=12)\n",
    "\n",
    "# Audio Data Info.\n",
    "print(f\"Signal Shape: {x.shape}\")\n",
    "print(f\"Sample Rate: {fs}\")\n",
    "print(f\"Audio Length in Second = {x.shape[0]/fs} [s]\")\n",
    "# VSC에서 IPython.display 실행 안됨\n",
    "Audio(x, sr=fs)"
   ]
  },
  {
   "cell_type": "markdown",
   "metadata": {},
   "source": [
    "### CQT vs FFT\n",
    "Constant Q 변환과 푸리에 변환 비교"
   ]
  },
  {
   "cell_type": "code",
   "execution_count": null,
   "metadata": {},
   "outputs": [],
   "source": [
    "# CQT Frequencies\n",
    "cqt_freqs = librosa.core.cqt_frequencies(n_bins=128, fmin=librosa.note_to_hz('C0'), bins_per_octave=12)\n",
    "\n",
    "# FFT Frequencies\n",
    "fft_freqs = librosa.fft_frequencies(sr=44100, n_fft=128)\n",
    "\n",
    "# Notes Center Frequencies\n",
    "notes_freqs = 440*2**(np.arange(-57, (128-57))/12)"
   ]
  },
  {
   "cell_type": "code",
   "execution_count": null,
   "metadata": {},
   "outputs": [],
   "source": [
    "plt.figure()\n",
    "plt.plot(cqt_freqs, 'bo', label='CQT')\n",
    "plt.plot(fft_freqs, 'rx', label= 'FFT')\n",
    "plt.plot(notes_freqs, 'g^', label = 'Notes')\n",
    "plt.title(\" CQT vs FFT\")\n",
    "plt.xlabel('Bin Number #')\n",
    "plt.ylabel('Frequency [Hz]')\n",
    "plt.legend();"
   ]
  },
  {
   "cell_type": "markdown",
   "metadata": {},
   "source": [
    "#### CQT"
   ]
  },
  {
   "cell_type": "code",
   "execution_count": null,
   "metadata": {},
   "outputs": [],
   "source": [
    "def calc_cqt(x,fs=fs,hop_length=hop_length, n_bins=n_bins, mag_exp=mag_exp):\n",
    "    C = librosa.cqt(x, sr=fs, hop_length=hop_length, fmin=None, n_bins=n_bins)\n",
    "    C_mag = librosa.magphase(C)[0]**mag_exp\n",
    "    CdB = librosa.core.amplitude_to_db(C_mag ,ref=np.max)\n",
    "    return CdB\n",
    "# CQT Threshold\n",
    "def cqt_thresholded(cqt,thres=cqt_threshold):\n",
    "    new_cqt=np.copy(cqt)\n",
    "    new_cqt[new_cqt<thres]=-120\n",
    "    return new_cqt\n",
    "# Onset Envelope from Cqt\n",
    "def calc_onset_env(cqt):\n",
    "    return librosa.onset.onset_strength(S=cqt, sr=fs, aggregate=np.mean, hop_length=hop_length)\n",
    "# Onset from Onset Envelope\n",
    "def calc_onset(cqt, pre_post_max=pre_post_max, backtrack=True):\n",
    "    onset_env=calc_onset_env(cqt)\n",
    "    onset_frames = librosa.onset.onset_detect(onset_envelope=onset_env,\n",
    "                                           sr=fs, units='frames', \n",
    "                                           hop_length=hop_length, \n",
    "                                           backtrack=backtrack,\n",
    "                                           pre_max=pre_post_max,\n",
    "                                           post_max=pre_post_max)\n",
    "    onset_boundaries = np.concatenate([[0], onset_frames, [cqt.shape[1]]])\n",
    "    onset_times = librosa.frames_to_time(onset_boundaries, sr=fs, hop_length=hop_length)\n",
    "    return [onset_times, onset_boundaries, onset_env]"
   ]
  },
  {
   "cell_type": "markdown",
   "metadata": {},
   "source": [
    "음악이 어디서 시작할것인가? -> onset detection\n",
    "\n",
    "### Fine Tuning UI"
   ]
  },
  {
   "cell_type": "code",
   "execution_count": null,
   "metadata": {},
   "outputs": [],
   "source": [
    "# Fine Tuning UI\n",
    "style = {'description_width': 'initial'}\n",
    "mag_exp_slider=IntSlider(value=mag_exp, min=1, max=32, step=1, \n",
    "                         description='mag_exp:',continuous_update=False)\n",
    "\n",
    "thres_slider=IntSlider(value=cqt_threshold, min=-120, max=0, step=1, \n",
    "                                                     description='Threshold:',continuous_update=False)\n",
    "\n",
    "pre_post_slider=IntSlider(value=pre_post_max, min=1, max=32, step=1, \n",
    "                         description='Pre_post_max:',continuous_update=False, style=style)\n",
    "\n",
    "backtrack_box=Checkbox(value=False,description='backtrack',disabled=False)\n",
    "\n",
    "\n",
    "def inter_cqt_tuning(mag_exp,thres,pre_post_max, backtrack):\n",
    "    thres=thres_slider.value\n",
    "    mag_exp=mag_exp_slider.value\n",
    "    pre_post_max=pre_post_slider.value\n",
    "    backtrack=backtrack_box.value\n",
    "    global CdB\n",
    "    CdB = calc_cqt(x,fs,hop_length, n_bins, mag_exp)\n",
    "    plt.figure()\n",
    "    new_cqt=cqt_thresholded(CdB,thres)\n",
    "    librosa.display.specshow(new_cqt, sr=fs, hop_length=hop_length, x_axis='time', y_axis='cqt_note', cmap='coolwarm')\n",
    "    plt.ylim([librosa.note_to_hz('B2'),librosa.note_to_hz('B6')])\n",
    "    global onsets\n",
    "    onsets=calc_onset(new_cqt,pre_post_max, backtrack)\n",
    "    plt.vlines(onsets[0], 0, fs/2, color='k', alpha=0.8)\n",
    "    plt.title(\"CQT - Sweet Child O' Mine Intro\")\n",
    "    plt.colorbar()\n",
    "    plt.show()"
   ]
  },
  {
   "cell_type": "code",
   "execution_count": null,
   "metadata": {},
   "outputs": [],
   "source": [
    "# Display UI\n",
    "out = interactive_output(inter_cqt_tuning,  {'mag_exp': mag_exp_slider, 'thres': thres_slider, \n",
    "                                             'pre_post_max': pre_post_slider, 'backtrack':backtrack_box})\n",
    "ui = VBox([mag_exp_slider, thres_slider, pre_post_slider, backtrack_box])\n",
    "display(ui, out)"
   ]
  },
  {
   "cell_type": "code",
   "execution_count": null,
   "metadata": {},
   "outputs": [],
   "source": [
    "CdB = calc_cqt(x, fs, hop_length, n_bins, mag_exp)\n",
    "\n",
    "new_cqt = cqt_thresholded(CdB, cqt_threshold)\n",
    "\n",
    "onsets = calc_onset(new_cqt, pre_post_max, False)"
   ]
  },
  {
   "cell_type": "markdown",
   "metadata": {},
   "source": [
    "### Estimate Tempo (BPM)"
   ]
  },
  {
   "cell_type": "code",
   "execution_count": null,
   "metadata": {},
   "outputs": [],
   "source": [
    "tempo, beats=librosa.beat.beat_track(y=None, sr=fs, onset_envelope=onsets[2], hop_length=hop_length,\n",
    "               start_bpm=120.0, tightness=100, trim=True, bpm=None,\n",
    "               units='frames')\n",
    "tempo=int(2*round(tempo/2))\n",
    "mm = MetronomeMark(referent='quarter', number=tempo)"
   ]
  },
  {
   "cell_type": "code",
   "execution_count": null,
   "metadata": {},
   "outputs": [],
   "source": [
    "tempo"
   ]
  },
  {
   "cell_type": "code",
   "execution_count": null,
   "metadata": {},
   "outputs": [],
   "source": [
    "# Convert Seconds to Quarter-Notes\n",
    "def time_to_beat(duration, tempo):\n",
    "    return (tempo*duration/60)\n",
    "# Remap input to 0-1 for Sine Amplitude or to 0-127 for MIDI\n",
    "def remap(x, in_min, in_max, out_min, out_max):\n",
    "    return (x - in_min) * (out_max - out_min) / (in_max - in_min) + out_min\n",
    "# Generate Sinewave, MIDI Notes and music21 notes\n",
    "def generate_sine_midi_note(f0_info, sr, n_duration, round_to_sixtenth=True):\n",
    "    f0=f0_info[0]\n",
    "    A=remap(f0_info[1], CdB.min(), CdB.max(), 0, 1)\n",
    "    duration = librosa.frames_to_time(n_duration, sr=fs, hop_length=hop_length)\n",
    "    #Generate Midi Note and music21 note\n",
    "    note_duration = 0.02*np.around(duration/2/0.02) # Round to 2 decimal places for music21 compatibility\n",
    "    midi_duration = time_to_beat(duration, tempo)\n",
    "    midi_velocity=int(round(remap(f0_info[1], CdB.min(), CdB.max(), 0, 127)))\n",
    "    if round_to_sixtenth:\n",
    "        midi_duration=round(midi_duration*16)/16\n",
    "    if f0==None:\n",
    "        midi_note=None\n",
    "        note_info=Rest(type=mm.secondsToDuration(note_duration).type)\n",
    "        f0=0\n",
    "    else:\n",
    "        midi_note=round(librosa.hz_to_midi(f0))\n",
    "        note = Note(librosa.midi_to_note(midi_note).replace(\"♯\",\"#\"), type=mm.secondsToDuration(note_duration).type)\n",
    "        note.volume.velocity = midi_velocity\n",
    "        note_info = [note]\n",
    "    midi_info = [midi_note, midi_duration, midi_velocity]\n",
    "            \n",
    "    # Generate Sinewave\n",
    "    n = np.arange(librosa.frames_to_samples(n_duration, hop_length=hop_length ))\n",
    "    sine_wave = A*np.sin(2*np.pi*f0*n/float(sr))\n",
    "    return [sine_wave, midi_info, note_info]"
   ]
  },
  {
   "cell_type": "markdown",
   "metadata": {},
   "source": [
    "### Estimate Pitch"
   ]
  },
  {
   "cell_type": "code",
   "execution_count": null,
   "metadata": {},
   "outputs": [],
   "source": [
    "def estimate_pitch(segment, threshold):\n",
    "    freqs = librosa.cqt_frequencies(n_bins=n_bins, fmin=librosa.note_to_hz('C1'),\n",
    "                            bins_per_octave=12)\n",
    "    if segment.max()<threshold:\n",
    "        return [None, np.mean((np.amax(segment,axis=0)))]\n",
    "    else:\n",
    "        f0 = int(np.mean((np.argmax(segment,axis=0))))\n",
    "    return [freqs[f0], np.mean((np.amax(segment,axis=0)))]\n",
    "# Generate notes from Pitch estimation\n",
    "def estimate_pitch_and_notes(x, onset_boundaries, i, sr):\n",
    "    n0 = onset_boundaries[i]\n",
    "    n1 = onset_boundaries[i+1]\n",
    "    f0_info = estimate_pitch(np.mean(x[:,n0:n1],axis=1),threshold=cqt_threshold)\n",
    "    return generate_sine_midi_note(f0_info, sr, n1-n0)\n"
   ]
  },
  {
   "cell_type": "code",
   "execution_count": null,
   "metadata": {},
   "outputs": [],
   "source": [
    "# Array of music information - Sinewave, MIDI Notes and muisc21 Notes\n",
    "music_info = np.array([\n",
    "    estimate_pitch_and_notes(CdB, onsets[1], i, sr=fs)\n",
    "    for i in range(len(onsets[1])-1)\n",
    "])"
   ]
  },
  {
   "cell_type": "code",
   "execution_count": null,
   "metadata": {},
   "outputs": [],
   "source": [
    "# Get sinewave \n",
    "synth_audio=np.concatenate(music_info[:,0])"
   ]
  },
  {
   "cell_type": "code",
   "execution_count": null,
   "metadata": {},
   "outputs": [],
   "source": [
    "Audio(synth_audio, sr=fs)"
   ]
  },
  {
   "cell_type": "code",
   "execution_count": null,
   "metadata": {},
   "outputs": [],
   "source": [
    "# Get music21 notes\n",
    "note_info = list(music_info[: ,2])"
   ]
  },
  {
   "cell_type": "code",
   "execution_count": null,
   "metadata": {},
   "outputs": [],
   "source": [
    "# Create music21 stream\n",
    "s = Stream()\n",
    "s.append(mm)\n",
    "electricguitar = instrument.fromString('electric guitar')\n",
    "electricguitar.midiChannel=0\n",
    "electricguitar.midiProgram=30  #Set program to Overdriven Guitar\n",
    "s.append(electricguitar)\n",
    "s.insert(0, metadata.Metadata())\n",
    "s.metadata.title = \"Sweet Child O' Mine - Introduction\"\n",
    "s.metadata.composer = \"Guns n' Roses\"\n",
    "for note in note_info:\n",
    "    s.append(note)"
   ]
  },
  {
   "cell_type": "code",
   "execution_count": null,
   "metadata": {},
   "outputs": [],
   "source": [
    "# Analyse music21 stream to get song Key\n",
    "key=s.analyze('key')\n",
    "print(key.name)\n",
    "# Insert Key to Stream\n",
    "s.insert(0, key)"
   ]
  },
  {
   "cell_type": "code",
   "execution_count": null,
   "metadata": {},
   "outputs": [],
   "source": [
    "# Display music21 stream\n",
    "# If you have Musescore installed and configured displays music score - https://musescore.org/en\n",
    "# import musescore\n",
    "# s.show() # You must have Nusescore installed and Configured to run this and display the music score\n",
    "\n",
    "# Show stream as text\n",
    "s.show('text')"
   ]
  },
  {
   "cell_type": "code",
   "execution_count": null,
   "metadata": {},
   "outputs": [],
   "source": [
    "# Listen to music21 stream as MIDI\n",
    "# s.show('midi') \n",
    "\n",
    "# Pygame play - Needs pygame to be installed\n",
    "sp = midi.realtime.StreamPlayer(s)\n",
    "sp.play()"
   ]
  },
  {
   "cell_type": "code",
   "execution_count": null,
   "metadata": {},
   "outputs": [],
   "source": [
    "# Save MIdi to file\n",
    "s.write('midi', 'sweet_child_music21.mid')\n",
    "\n",
    "# Another way for saving midi\n",
    "#mf = midi.translate.streamToMidiFile(s)\n",
    "#mf.open('sweet_child_mine'+'.mid', 'wb')\n",
    "#mf.write()\n",
    "#mf.close()"
   ]
  },
  {
   "cell_type": "code",
   "execution_count": null,
   "metadata": {},
   "outputs": [],
   "source": [
    "# Get MIDI Information\n",
    "midi_info = list(music_info[:,1])"
   ]
  },
  {
   "cell_type": "code",
   "execution_count": null,
   "metadata": {},
   "outputs": [],
   "source": [
    "# Save midi file from MIDI information using MIDIUtils - not using anything from music21, \n",
    "track    = 0\n",
    "channel  = 0\n",
    "tempo    = tempo  # In BPM\n",
    "volume   = 100  # 0-127, as per the MIDI standard\n",
    "\n",
    "gnr = MIDIFile(1)  # One track, defaults to format 1 (tempo track is created\n",
    "                      # automatically)\n",
    "gnr.addTrackName(0,0,\"Guns n' Roses - Sweet Child O' Mine - Intro\")\n",
    "program = 30 # Overdriven Guitar\n",
    "gnr.addProgramChange(track, channel, 0, program)\n",
    "gnr.addTempo(track, 0, tempo)\n",
    "\n",
    "note_time=0\n",
    "for i, note in enumerate(midi_info):\n",
    "    if note[0]==None:\n",
    "        note_time+=note[1]\n",
    "    else:\n",
    "        note_time+=note[1]\n",
    "        gnr.addNote(track, channel, int(note[0]), note_time, note[1], note[2])\n",
    "\n",
    "with open(\"sweet_child_midiutils.mid\", \"wb\") as output_file:\n",
    "    gnr.writeFile(output_file)"
   ]
  }
 ],
 "metadata": {
  "kernelspec": {
   "display_name": "Python 3.8.13 ('dgdg')",
   "language": "python",
   "name": "python3"
  },
  "language_info": {
   "codemirror_mode": {
    "name": "ipython",
    "version": 3
   },
   "file_extension": ".py",
   "mimetype": "text/x-python",
   "name": "python",
   "nbconvert_exporter": "python",
   "pygments_lexer": "ipython3",
   "version": "3.8.13"
  },
  "orig_nbformat": 4,
  "vscode": {
   "interpreter": {
    "hash": "2076adaa342e4728b5f632fbf189c39b5d1811ef76d2fb06a694f637be620194"
   }
  }
 },
 "nbformat": 4,
 "nbformat_minor": 2
}
