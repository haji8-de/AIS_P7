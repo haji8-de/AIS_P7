{
 "cells": [
  {
   "cell_type": "markdown",
   "metadata": {},
   "source": [
    "# 딥러닝을 이용한 악기 소리 분류\n",
    "\n",
    "### 학습 데이터\n",
    "가짜 악기(virtual instrument, 가상 악기) 데이터는 쉽게 구할 수 있고 많은 편임  \n",
    "MIDI 표준에는 128개의 악기가 등록되어있음\n",
    "\n",
    "2초 간격으로 128종 악기별 50개의 음, 46개의 타악기 소리 (https://bab2min.tistory.com/642)\n",
    "\n",
    ".wav는 매 순간의 음압을 측정해 그 수치를 저장한 형태  \n",
    "-> 음악을 분석하기에 적합하지 않음  \n",
    "-> 음의 높이와 세기를 듣는것이지 음압을 듣는 것이 아니기 때문\n",
    "\n",
    "푸리에 변환을 이용해 시간 축의 데이터를 주파수 축의 데이터로 바꿔줘야 할 필요가 있음 (Constant-Q 변환 사용)"
   ]
  },
  {
   "cell_type": "markdown",
   "metadata": {},
   "source": [
    "### Constant-Q 변환\n",
    "주파수 축이 로그 단위로 변환되고, 각 주파수에 따라 해상도가 다양하게 처리되기 때문에 음악 처리에 푸리에 변환보다 유리하다고 알려져 있음"
   ]
  },
  {
   "cell_type": "code",
   "execution_count": 3,
   "metadata": {},
   "outputs": [],
   "source": [
    "import librosa\n",
    "import librosa.display\n",
    "import numpy as np\n",
    "import matplotlib.pyplot as plt\n",
    "import itertools\n",
    "import pandas as pd\n",
    "\n",
    "import tensorflow as tf\n",
    "from tensorflow.keras.models import Sequential\n",
    "from tensorflow.keras.layers import Dense, Conv2D, MaxPool2D, Dropout, Flatten"
   ]
  },
  {
   "cell_type": "code",
   "execution_count": null,
   "metadata": {},
   "outputs": [],
   "source": [
    "spt = []\n",
    "ins = []\n",
    "duration_offset = 0\n",
    "# MIDI 표준 128\n",
    "for instrument, note in itertools.product(range(128), range(50)): # 데카르트 곱(cartesian product)\n",
    "    y, sr = librosa.load(\"./GeneralMidi.wav\", sr=None, offset=duration_offset, duration=2.0)\n",
    "    duration_offset += 2\n",
    "    # 데이터 증강을 위해 화이트 노이즈를 섞은 버전도 함께 변환\n",
    "    # 옥타브당 24단계로, 총 7옥타브로 변환\n",
    "    for r in (0, 1e-4, 1e-3):\n",
    "        ret = librosa.cqt(y+((np.random.rand(*y.shape)-0.5)*r if r else 0),\n",
    "                          sr,\n",
    "                          hop_length=1024,\n",
    "                          n_bins=24*7,\n",
    "                          bins_per_octave=24)\n",
    "        # 위상 x, 세기만 관심 있으므로 절대값을 취함\n",
    "        ret = np.abs(ret)\n",
    "        # 스펙토그램 저장\n",
    "        spt.append(ret)\n",
    "        # 악기 번호와 음 높이를 저장\n",
    "        ins.append((instrument, 38+note))\n",
    "# 타악기 46\n",
    "for note in range(46):\n",
    "    y, sr = librosa.load('./GeneralMidi.wav', sr=None, offset=duration_offset, duration=2.0)\n",
    "    duration_offset += 2\n",
    "    for r, s in itertools.product([0, 1e-5, 1e-4, 1e-3], range(7)):\n",
    "        ret = librosa.cqt(y+((np.random.rand(*y.shape) - 0.5)*r*s if r else 0),\n",
    "                          sr,\n",
    "                          hop_length=1024,\n",
    "                          n_bins=24*7,\n",
    "                          bins_per_octave=24)\n",
    "        ret = np.abs(ret)\n",
    "        spt.append(ret)\n",
    "        ins.append((note + 128, 0))\n",
    "    \n",
    "spt = np.array(spt, np.float32)\n",
    "ins = np.array(ins, np.int16)\n",
    "\n",
    "np.savez(\"cqt.npz\", sepc=spt, instr=ins)    "
   ]
  },
  {
   "cell_type": "markdown",
   "metadata": {},
   "source": [
    "### Modeling\n",
    "CQT를 스펙토그램으로 그리면 X축은 시간, Y축은 주파수 대역  \n",
    "-> 2차원 그림으로 표현 가능"
   ]
  },
  {
   "cell_type": "code",
   "execution_count": 11,
   "metadata": {},
   "outputs": [],
   "source": [
    "model = Sequential()\n",
    "model.add(Conv2D(64, (3, 3), activation=\"relu\", input_shape=(168, 87, 1)))\n",
    "model.add(MaxPool2D((2, 2), (2, 2), padding=\"valid\"))\n",
    "model.add(Conv2D(32, (3, 3), activation=\"relu\"))\n",
    "model.add(MaxPool2D((2, 2), (2, 2), padding=\"same\"))\n",
    "model.add(Dropout(0.2))\n",
    "model.add(Flatten())\n",
    "model.add(Dense(174, activation=\"softmax\"))"
   ]
  },
  {
   "cell_type": "code",
   "execution_count": 21,
   "metadata": {},
   "outputs": [
    {
     "name": "stdout",
     "output_type": "stream",
     "text": [
      "Model: \"sequential_3\"\n",
      "_________________________________________________________________\n",
      " Layer (type)                Output Shape              Param #   \n",
      "=================================================================\n",
      " conv2d_5 (Conv2D)           (None, 166, 85, 64)       640       \n",
      "                                                                 \n",
      " max_pooling2d_4 (MaxPooling  (None, 83, 42, 64)       0         \n",
      " 2D)                                                             \n",
      "                                                                 \n",
      " conv2d_6 (Conv2D)           (None, 81, 40, 32)        18464     \n",
      "                                                                 \n",
      " max_pooling2d_5 (MaxPooling  (None, 41, 20, 32)       0         \n",
      " 2D)                                                             \n",
      "                                                                 \n",
      " dropout_2 (Dropout)         (None, 41, 20, 32)        0         \n",
      "                                                                 \n",
      " flatten (Flatten)           (None, 26240)             0         \n",
      "                                                                 \n",
      " dense_1 (Dense)             (None, 174)               4565934   \n",
      "                                                                 \n",
      "=================================================================\n",
      "Total params: 4,585,038\n",
      "Trainable params: 4,585,038\n",
      "Non-trainable params: 0\n",
      "_________________________________________________________________\n"
     ]
    }
   ],
   "source": [
    "model.summary()"
   ]
  },
  {
   "cell_type": "code",
   "execution_count": 12,
   "metadata": {},
   "outputs": [],
   "source": [
    "model.compile(\n",
    "    optimizer=\"adam\",\n",
    "    loss = tf.keras.losses.sparse_categorical_crossentropy,\n",
    "    metrics = [\"accuracy\"]\n",
    ")"
   ]
  },
  {
   "cell_type": "code",
   "execution_count": 13,
   "metadata": {},
   "outputs": [],
   "source": [
    "early_stop = tf.keras.callbacks.EarlyStopping(patience=5, monitor=\"val_loss\", restore_best_weights=True)"
   ]
  },
  {
   "cell_type": "markdown",
   "metadata": {},
   "source": [
    "### Train"
   ]
  },
  {
   "cell_type": "code",
   "execution_count": 4,
   "metadata": {},
   "outputs": [],
   "source": [
    "npz = np.load('cqt.npz')\n",
    "x = npz['sepc'] # spec\n",
    "y = npz['instr']"
   ]
  },
  {
   "cell_type": "code",
   "execution_count": 20,
   "metadata": {},
   "outputs": [],
   "source": [
    "x = np.expand_dims(x, -1)"
   ]
  },
  {
   "cell_type": "code",
   "execution_count": 16,
   "metadata": {},
   "outputs": [],
   "source": [
    "y = pd.DataFrame(y)[0]"
   ]
  },
  {
   "cell_type": "code",
   "execution_count": 22,
   "metadata": {},
   "outputs": [
    {
     "data": {
      "text/plain": [
       "((20488, 168, 87, 1), (20488,))"
      ]
     },
     "execution_count": 22,
     "metadata": {},
     "output_type": "execute_result"
    }
   ],
   "source": [
    "x.shape, y.shape"
   ]
  },
  {
   "cell_type": "code",
   "execution_count": 23,
   "metadata": {},
   "outputs": [
    {
     "name": "stdout",
     "output_type": "stream",
     "text": [
      "Epoch 1/50\n",
      "513/513 [==============================] - 112s 218ms/step - loss: 2.6059 - accuracy: 0.3896 - val_loss: 19.4723 - val_accuracy: 4.8804e-04\n",
      "Epoch 2/50\n",
      "513/513 [==============================] - 107s 208ms/step - loss: 0.5894 - accuracy: 0.8461 - val_loss: 28.1805 - val_accuracy: 4.8804e-04\n",
      "Epoch 3/50\n",
      "513/513 [==============================] - 108s 210ms/step - loss: 0.3005 - accuracy: 0.9212 - val_loss: 31.6910 - val_accuracy: 4.8804e-04\n",
      "Epoch 4/50\n",
      "513/513 [==============================] - 108s 210ms/step - loss: 0.2189 - accuracy: 0.9395 - val_loss: 36.0048 - val_accuracy: 4.8804e-04\n",
      "Epoch 5/50\n",
      "513/513 [==============================] - 108s 210ms/step - loss: 0.1629 - accuracy: 0.9527 - val_loss: 37.9070 - val_accuracy: 4.8804e-04\n",
      "Epoch 6/50\n",
      "513/513 [==============================] - 107s 208ms/step - loss: 0.1448 - accuracy: 0.9580 - val_loss: 34.7238 - val_accuracy: 4.8804e-04\n"
     ]
    }
   ],
   "source": [
    "with tf.device(\"/device:GPU:0\"):\n",
    "    hist = model.fit(x, y, validation_split=0.2, epochs=50, callbacks=[early_stop])"
   ]
  },
  {
   "cell_type": "markdown",
   "metadata": {},
   "source": [
    "### Evaluation"
   ]
  },
  {
   "cell_type": "code",
   "execution_count": 24,
   "metadata": {},
   "outputs": [
    {
     "name": "stdout",
     "output_type": "stream",
     "text": [
      "641/641 [==============================] - 40s 63ms/step - loss: 4.6162 - accuracy: 0.6241\n"
     ]
    }
   ],
   "source": [
    "test_loss, test_acc = model.evaluate(x, y)"
   ]
  },
  {
   "cell_type": "code",
   "execution_count": 25,
   "metadata": {},
   "outputs": [
    {
     "data": {
      "image/png": "[encoded data removed]",
      "text/plain": [
       "<Figure size 1008x360 with 2 Axes>"
      ]
     },
     "metadata": {
      "needs_background": "light"
     },
     "output_type": "display_data"
    }
   ],
   "source": [
    "hist_df = pd.DataFrame(hist.history)\n",
    "\n",
    "fig, ax = plt.subplots(1, 2, figsize=(14, 5))\n",
    "hist_df[[\"accuracy\", \"val_accuracy\"]].plot(ax=ax[0])\n",
    "hist_df[[\"loss\", \"val_loss\"]].plot(ax=ax[1])\n",
    "plt.show()"
   ]
  },
  {
   "cell_type": "code",
   "execution_count": 87,
   "metadata": {},
   "outputs": [],
   "source": [
    "model.save(\"sample_classification_inst.h5\")"
   ]
  },
  {
   "cell_type": "markdown",
   "metadata": {},
   "source": [
    "### Test"
   ]
  },
  {
   "cell_type": "code",
   "execution_count": 65,
   "metadata": {},
   "outputs": [
    {
     "name": "stderr",
     "output_type": "stream",
     "text": [
      "C:\\Users\\spec3\\AppData\\Local\\Temp\\ipykernel_51148\\1627433265.py:4: FutureWarning: Pass sr=22050 as keyword args. From version 0.10 passing these as positional arguments will result in an error\n",
      "  ret = librosa.cqt(\n"
     ]
    }
   ],
   "source": [
    "y, sr = librosa.load(\"./test_track/Downtempo_Sexy_Bass_01_1.wav\", duration=4)\n",
    "spt = []\n",
    "for r in (0, 87, 1):\n",
    "    ret = librosa.cqt(\n",
    "        y+((np.random.rand(*y.shape)-0.5)*r if r else r),\n",
    "        sr,\n",
    "        hop_length=1024,\n",
    "        n_bins=24*7,\n",
    "        bins_per_octave=24\n",
    "    )\n",
    "    ret = np.abs(ret)\n",
    "    spt.append(ret)\n",
    "    \n",
    "spt = np.array(spt, np.float32)"
   ]
  },
  {
   "cell_type": "code",
   "execution_count": 67,
   "metadata": {},
   "outputs": [],
   "source": [
    "x = np.expand_dims(spt, -1)"
   ]
  },
  {
   "cell_type": "code",
   "execution_count": 70,
   "metadata": {},
   "outputs": [
    {
     "data": {
      "text/plain": [
       "105"
      ]
     },
     "execution_count": 70,
     "metadata": {},
     "output_type": "execute_result"
    }
   ],
   "source": [
    "np.argmax(model.predict(x))"
   ]
  },
  {
   "cell_type": "code",
   "execution_count": 75,
   "metadata": {},
   "outputs": [],
   "source": [
    "data = []\n",
    "f = open(\"./gm.list.txt\", \"r\")\n",
    "lines = f.readlines()\n",
    "for line in lines:\n",
    "    data.append(line.strip())\n",
    "f.close()"
   ]
  },
  {
   "cell_type": "code",
   "execution_count": 80,
   "metadata": {},
   "outputs": [],
   "source": [
    "inst_dict = {}\n",
    "for idx, inst in enumerate(data):\n",
    "    inst_dict[idx] = inst"
   ]
  },
  {
   "cell_type": "code",
   "execution_count": 82,
   "metadata": {},
   "outputs": [
    {
     "data": {
      "text/plain": [
       "'Banjo'"
      ]
     },
     "execution_count": 82,
     "metadata": {},
     "output_type": "execute_result"
    }
   ],
   "source": [
    "inst_dict[105]"
   ]
  },
  {
   "cell_type": "markdown",
   "metadata": {},
   "source": [
    "---"
   ]
  },
  {
   "cell_type": "code",
   "execution_count": 83,
   "metadata": {},
   "outputs": [
    {
     "name": "stderr",
     "output_type": "stream",
     "text": [
      "C:\\Users\\spec3\\AppData\\Local\\Temp\\ipykernel_51148\\2187023036.py:4: FutureWarning: Pass sr=22050 as keyword args. From version 0.10 passing these as positional arguments will result in an error\n",
      "  ret = librosa.cqt(\n"
     ]
    }
   ],
   "source": [
    "y, sr = librosa.load(\"./test_track/Liverpool_Bass_1.wav\", duration=4)\n",
    "spt = []\n",
    "for r in (0, 87, 1):\n",
    "    ret = librosa.cqt(\n",
    "        y+((np.random.rand(*y.shape)-0.5)*r if r else r),\n",
    "        sr,\n",
    "        hop_length=1024,\n",
    "        n_bins=24*7,\n",
    "        bins_per_octave=24\n",
    "    )\n",
    "    ret = np.abs(ret)\n",
    "    spt.append(ret)\n",
    "    \n",
    "spt = np.array(spt, np.float32)"
   ]
  },
  {
   "cell_type": "code",
   "execution_count": 86,
   "metadata": {},
   "outputs": [
    {
     "data": {
      "text/plain": [
       "'Alto Sax'"
      ]
     },
     "execution_count": 86,
     "metadata": {},
     "output_type": "execute_result"
    }
   ],
   "source": [
    "inst_dict[np.argmax(model.predict(np.expand_dims(spt, -1)))]"
   ]
  }
 ],
 "metadata": {
  "kernelspec": {
   "display_name": "Python 3.8.13 ('dgdg')",
   "language": "python",
   "name": "python3"
  },
  "language_info": {
   "codemirror_mode": {
    "name": "ipython",
    "version": 3
   },
   "file_extension": ".py",
   "mimetype": "text/x-python",
   "name": "python",
   "nbconvert_exporter": "python",
   "pygments_lexer": "ipython3",
   "version": "3.8.13"
  },
  "vscode": {
   "interpreter": {
    "hash": "2076adaa342e4728b5f632fbf189c39b5d1811ef76d2fb06a694f637be620194"
   }
  }
 },
 "nbformat": 4,
 "nbformat_minor": 2
}
